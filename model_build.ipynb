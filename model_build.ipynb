{
 "cells": [
  {
   "cell_type": "code",
   "execution_count": 52,
   "metadata": {
    "colab": {},
    "colab_type": "code",
    "id": "oFJ1qwfNptx1"
   },
   "outputs": [],
   "source": [
    "import pandas as pd\n",
    "import numpy as np\n",
    "from os import path"
   ]
  },
  {
   "cell_type": "code",
   "execution_count": 53,
   "metadata": {
    "colab": {
     "base_uri": "https://localhost:8080/",
     "height": 54
    },
    "colab_type": "code",
    "executionInfo": {
     "elapsed": 1841,
     "status": "ok",
     "timestamp": 1587635973387,
     "user": {
      "displayName": "Ram Damera",
      "photoUrl": "https://lh3.googleusercontent.com/a-/AOh14GisjxJ6K7BHWSlIsAZ0n36P8UGDrLw6CtOeRPeqyQ=s64",
      "userId": "12065644630504145454"
     },
     "user_tz": -330
    },
    "id": "WtqgX4fKp4Qt",
    "outputId": "1f63acae-a085-4aaf-d927-c25a29aac33a"
   },
   "outputs": [],
   "source": [
    "# from google.colab import drive\n",
    "# drive.mount('/content/drive')"
   ]
  },
  {
   "cell_type": "code",
   "execution_count": 54,
   "metadata": {
    "colab": {},
    "colab_type": "code",
    "id": "XPhZE4HOp4un"
   },
   "outputs": [],
   "source": [
    "# pwd = '/content/drive/My Drive/Colab Notebooks/tpa/'\n",
    "pwd = './'\n",
    "monolith_dir = path.join(pwd, 'monolith')\n",
    "final_features = path.join(monolith_dir, 'features.csv')"
   ]
  },
  {
   "cell_type": "code",
   "execution_count": 55,
   "metadata": {
    "colab": {},
    "colab_type": "code",
    "id": "qL6kDCmtqEKT"
   },
   "outputs": [],
   "source": [
    "root = pd.read_csv(final_features)"
   ]
  },
  {
   "cell_type": "code",
   "execution_count": 56,
   "metadata": {
    "colab": {
     "base_uri": "https://localhost:8080/",
     "height": 224
    },
    "colab_type": "code",
    "executionInfo": {
     "elapsed": 1173,
     "status": "ok",
     "timestamp": 1587635986050,
     "user": {
      "displayName": "Ram Damera",
      "photoUrl": "https://lh3.googleusercontent.com/a-/AOh14GisjxJ6K7BHWSlIsAZ0n36P8UGDrLw6CtOeRPeqyQ=s64",
      "userId": "12065644630504145454"
     },
     "user_tz": -330
    },
    "id": "Lzo41V66GgxN",
    "outputId": "18aa78ca-53f8-46e0-bb99-d77e2be01cb0"
   },
   "outputs": [
    {
     "data": {
      "text/html": [
       "<div>\n",
       "<style scoped>\n",
       "    .dataframe tbody tr th:only-of-type {\n",
       "        vertical-align: middle;\n",
       "    }\n",
       "\n",
       "    .dataframe tbody tr th {\n",
       "        vertical-align: top;\n",
       "    }\n",
       "\n",
       "    .dataframe thead th {\n",
       "        text-align: right;\n",
       "    }\n",
       "</style>\n",
       "<table border=\"1\" class=\"dataframe\">\n",
       "  <thead>\n",
       "    <tr style=\"text-align: right;\">\n",
       "      <th></th>\n",
       "      <th>screen_name</th>\n",
       "      <th>acct_age</th>\n",
       "      <th>follower_count</th>\n",
       "      <th>friends_count</th>\n",
       "      <th>statuses_count</th>\n",
       "      <th>favorites_count</th>\n",
       "      <th>avg_status_count</th>\n",
       "      <th>verified_acct</th>\n",
       "      <th>default_image</th>\n",
       "      <th>default_profile</th>\n",
       "      <th>rel_new_acct</th>\n",
       "      <th>isbot</th>\n",
       "    </tr>\n",
       "  </thead>\n",
       "  <tbody>\n",
       "    <tr>\n",
       "      <th>0</th>\n",
       "      <td>pooojachoudhary</td>\n",
       "      <td>146</td>\n",
       "      <td>53</td>\n",
       "      <td>31</td>\n",
       "      <td>219</td>\n",
       "      <td>2160</td>\n",
       "      <td>1.500000</td>\n",
       "      <td>0</td>\n",
       "      <td>0</td>\n",
       "      <td>1</td>\n",
       "      <td>1</td>\n",
       "      <td>0</td>\n",
       "    </tr>\n",
       "    <tr>\n",
       "      <th>1</th>\n",
       "      <td>abhijeetkeshar9</td>\n",
       "      <td>1634</td>\n",
       "      <td>584</td>\n",
       "      <td>2229</td>\n",
       "      <td>1617</td>\n",
       "      <td>2041</td>\n",
       "      <td>0.989596</td>\n",
       "      <td>0</td>\n",
       "      <td>0</td>\n",
       "      <td>1</td>\n",
       "      <td>0</td>\n",
       "      <td>0</td>\n",
       "    </tr>\n",
       "    <tr>\n",
       "      <th>2</th>\n",
       "      <td>Rahul_saffron</td>\n",
       "      <td>3463</td>\n",
       "      <td>14474</td>\n",
       "      <td>4178</td>\n",
       "      <td>31244</td>\n",
       "      <td>7140</td>\n",
       "      <td>9.022235</td>\n",
       "      <td>0</td>\n",
       "      <td>0</td>\n",
       "      <td>0</td>\n",
       "      <td>0</td>\n",
       "      <td>1</td>\n",
       "    </tr>\n",
       "    <tr>\n",
       "      <th>3</th>\n",
       "      <td>nijilmkandy</td>\n",
       "      <td>3200</td>\n",
       "      <td>176</td>\n",
       "      <td>1297</td>\n",
       "      <td>660</td>\n",
       "      <td>2582</td>\n",
       "      <td>0.206250</td>\n",
       "      <td>0</td>\n",
       "      <td>0</td>\n",
       "      <td>0</td>\n",
       "      <td>0</td>\n",
       "      <td>0</td>\n",
       "    </tr>\n",
       "    <tr>\n",
       "      <th>4</th>\n",
       "      <td>doamuslims</td>\n",
       "      <td>2055</td>\n",
       "      <td>33240</td>\n",
       "      <td>29</td>\n",
       "      <td>18252</td>\n",
       "      <td>2015</td>\n",
       "      <td>8.881752</td>\n",
       "      <td>0</td>\n",
       "      <td>0</td>\n",
       "      <td>0</td>\n",
       "      <td>0</td>\n",
       "      <td>1</td>\n",
       "    </tr>\n",
       "  </tbody>\n",
       "</table>\n",
       "</div>"
      ],
      "text/plain": [
       "       screen_name  acct_age  follower_count  friends_count  statuses_count  \\\n",
       "0  pooojachoudhary       146              53             31             219   \n",
       "1  abhijeetkeshar9      1634             584           2229            1617   \n",
       "2    Rahul_saffron      3463           14474           4178           31244   \n",
       "3      nijilmkandy      3200             176           1297             660   \n",
       "4       doamuslims      2055           33240             29           18252   \n",
       "\n",
       "   favorites_count  avg_status_count  verified_acct  default_image  \\\n",
       "0             2160          1.500000              0              0   \n",
       "1             2041          0.989596              0              0   \n",
       "2             7140          9.022235              0              0   \n",
       "3             2582          0.206250              0              0   \n",
       "4             2015          8.881752              0              0   \n",
       "\n",
       "   default_profile  rel_new_acct  isbot  \n",
       "0                1             1      0  \n",
       "1                1             0      0  \n",
       "2                0             0      1  \n",
       "3                0             0      0  \n",
       "4                0             0      1  "
      ]
     },
     "execution_count": 56,
     "metadata": {},
     "output_type": "execute_result"
    }
   ],
   "source": [
    "root.head()"
   ]
  },
  {
   "cell_type": "code",
   "execution_count": 57,
   "metadata": {
    "colab": {},
    "colab_type": "code",
    "id": "wKC608RLae-o"
   },
   "outputs": [],
   "source": [
    "from sklearn.model_selection import train_test_split\n",
    "from sklearn.preprocessing import StandardScaler\n",
    "from sklearn.metrics import accuracy_score, auc, roc_curve, confusion_matrix, precision_recall_fscore_support\n",
    "from sklearn.svm import SVC\n",
    "from sklearn.naive_bayes import GaussianNB\n",
    "from sklearn.tree import DecisionTreeClassifier\n",
    "from sklearn.ensemble import RandomForestClassifier\n",
    "import matplotlib.pyplot as plt"
   ]
  },
  {
   "cell_type": "code",
   "execution_count": 58,
   "metadata": {
    "colab": {},
    "colab_type": "code",
    "id": "xeezSe6HQlTq"
   },
   "outputs": [],
   "source": [
    "root = root[root.follower_count <100001]\n",
    "X = root[[\n",
    "  'acct_age', 'follower_count', 'friends_count', 'statuses_count',\n",
    "  'favorites_count', 'avg_status_count', 'verified_acct', 'default_image',\n",
    "  'default_profile', 'rel_new_acct'\n",
    "]]\n",
    "Y = root[['isbot']]"
   ]
  },
  {
   "cell_type": "code",
   "execution_count": 59,
   "metadata": {
    "colab": {
     "base_uri": "https://localhost:8080/",
     "height": 34
    },
    "colab_type": "code",
    "executionInfo": {
     "elapsed": 993,
     "status": "ok",
     "timestamp": 1587635998152,
     "user": {
      "displayName": "Ram Damera",
      "photoUrl": "https://lh3.googleusercontent.com/a-/AOh14GisjxJ6K7BHWSlIsAZ0n36P8UGDrLw6CtOeRPeqyQ=s64",
      "userId": "12065644630504145454"
     },
     "user_tz": -330
    },
    "id": "htznh1zZQ8gq",
    "outputId": "b6bba9bd-ebd3-4920-8f5f-a2104032eaef"
   },
   "outputs": [
    {
     "name": "stdout",
     "output_type": "stream",
     "text": [
      "(46169, 10)\n"
     ]
    }
   ],
   "source": [
    "print(X.shape)"
   ]
  },
  {
   "cell_type": "code",
   "execution_count": 60,
   "metadata": {
    "colab": {
     "base_uri": "https://localhost:8080/",
     "height": 204
    },
    "colab_type": "code",
    "executionInfo": {
     "elapsed": 1011,
     "status": "ok",
     "timestamp": 1587636001572,
     "user": {
      "displayName": "Ram Damera",
      "photoUrl": "https://lh3.googleusercontent.com/a-/AOh14GisjxJ6K7BHWSlIsAZ0n36P8UGDrLw6CtOeRPeqyQ=s64",
      "userId": "12065644630504145454"
     },
     "user_tz": -330
    },
    "id": "tBAnan7QRA7D",
    "outputId": "a7f0417c-fe68-4b72-c041-649c6e6a0135"
   },
   "outputs": [
    {
     "data": {
      "text/html": [
       "<div>\n",
       "<style scoped>\n",
       "    .dataframe tbody tr th:only-of-type {\n",
       "        vertical-align: middle;\n",
       "    }\n",
       "\n",
       "    .dataframe tbody tr th {\n",
       "        vertical-align: top;\n",
       "    }\n",
       "\n",
       "    .dataframe thead th {\n",
       "        text-align: right;\n",
       "    }\n",
       "</style>\n",
       "<table border=\"1\" class=\"dataframe\">\n",
       "  <thead>\n",
       "    <tr style=\"text-align: right;\">\n",
       "      <th></th>\n",
       "      <th>isbot</th>\n",
       "    </tr>\n",
       "  </thead>\n",
       "  <tbody>\n",
       "    <tr>\n",
       "      <th>0</th>\n",
       "      <td>0</td>\n",
       "    </tr>\n",
       "    <tr>\n",
       "      <th>1</th>\n",
       "      <td>0</td>\n",
       "    </tr>\n",
       "    <tr>\n",
       "      <th>2</th>\n",
       "      <td>1</td>\n",
       "    </tr>\n",
       "    <tr>\n",
       "      <th>3</th>\n",
       "      <td>0</td>\n",
       "    </tr>\n",
       "    <tr>\n",
       "      <th>4</th>\n",
       "      <td>1</td>\n",
       "    </tr>\n",
       "  </tbody>\n",
       "</table>\n",
       "</div>"
      ],
      "text/plain": [
       "   isbot\n",
       "0      0\n",
       "1      0\n",
       "2      1\n",
       "3      0\n",
       "4      1"
      ]
     },
     "execution_count": 60,
     "metadata": {},
     "output_type": "execute_result"
    }
   ],
   "source": [
    "Y.head()"
   ]
  },
  {
   "cell_type": "code",
   "execution_count": 61,
   "metadata": {
    "colab": {},
    "colab_type": "code",
    "id": "Sxu6KoFsRE8E"
   },
   "outputs": [],
   "source": [
    "X_train, X_test, y_train, y_test = train_test_split(X, Y, test_size=0.33, random_state=782)"
   ]
  },
  {
   "cell_type": "code",
   "execution_count": 62,
   "metadata": {
    "colab": {},
    "colab_type": "code",
    "id": "rCzOTM9jbgQx"
   },
   "outputs": [],
   "source": [
    "sd_scalar = StandardScaler()\n",
    "sd_scalar.fit(X_train)\n",
    "sd_X_train = sd_scalar.transform(X_train)\n",
    "sd_X_test = sd_scalar.transform(X_test)"
   ]
  },
  {
   "cell_type": "code",
   "execution_count": 63,
   "metadata": {
    "colab": {},
    "colab_type": "code",
    "id": "aMsuARozerD3"
   },
   "outputs": [],
   "source": [
    "def draw_roc_auc(model, x_test, y_test):\n",
    "  probs = model.predict_proba(x_test)\n",
    "  preds = probs[:,1]\n",
    "  fpr, tpr, threshold = roc_curve(y_test, preds)\n",
    "  roc_auc = auc(fpr, tpr)\n",
    "\n",
    "  plt.title('ROC_AUC')\n",
    "  plt.plot(fpr, tpr, 'r', label = 'AUC = %0.2f' % roc_auc)\n",
    "  plt.legend(loc = 'lower right')\n",
    "  plt.xlim([0, 1])\n",
    "  plt.ylim([0, 1])\n",
    "  plt.ylabel('True Positive Rate')\n",
    "  plt.xlabel('False Positive Rate')\n",
    "  plt.show()"
   ]
  },
  {
   "cell_type": "code",
   "execution_count": 64,
   "metadata": {
    "colab": {},
    "colab_type": "code",
    "id": "rVEMn7xopf_A"
   },
   "outputs": [],
   "source": [
    "import warnings\n",
    "from sklearn.exceptions import DataConversionWarning\n",
    "warnings.filterwarnings(action='ignore', category=DataConversionWarning)"
   ]
  },
  {
   "cell_type": "markdown",
   "metadata": {
    "colab_type": "text",
    "id": "YZSu9BdrGXec"
   },
   "source": [
    "# SVM"
   ]
  },
  {
   "cell_type": "code",
   "execution_count": 65,
   "metadata": {
    "colab": {
     "base_uri": "https://localhost:8080/",
     "height": 363
    },
    "colab_type": "code",
    "executionInfo": {
     "elapsed": 32407,
     "status": "ok",
     "timestamp": 1587636057781,
     "user": {
      "displayName": "Ram Damera",
      "photoUrl": "https://lh3.googleusercontent.com/a-/AOh14GisjxJ6K7BHWSlIsAZ0n36P8UGDrLw6CtOeRPeqyQ=s64",
      "userId": "12065644630504145454"
     },
     "user_tz": -330
    },
    "id": "7KxIgVndRVcc",
    "outputId": "1cfc3521-1bb1-48b5-8942-da2e96c1494b"
   },
   "outputs": [
    {
     "name": "stdout",
     "output_type": "stream",
     "text": [
      "SVM accuracy is 0.9703334208453662\n"
     ]
    },
    {
     "data": {
      "image/png": "[encoded data removed]",
      "text/plain": [
       "<Figure size 432x288 with 1 Axes>"
      ]
     },
     "metadata": {
      "needs_background": "light"
     },
     "output_type": "display_data"
    },
    {
     "name": "stdout",
     "output_type": "stream",
     "text": [
      "(0.9703334208453662, 0.9703334208453662, 0.9703334208453662, None)\n",
      "(0.872902341631502, 0.7400038071193131, 0.790514640034264, None)\n",
      "(0.9669157382226082, 0.9703334208453662, 0.9671232810915834, None)\n"
     ]
    }
   ],
   "source": [
    "# non scaled SVM\n",
    "\n",
    "svm_clf = SVC(probability=True)\n",
    "svm_clf.fit(X_train, y_train)\n",
    "pred_svm = svm_clf.predict(X_test)\n",
    "print('SVM accuracy is', accuracy_score(y_test, pred_svm))\n",
    "draw_roc_auc(svm_clf, X_test, y_test)\n",
    "print(precision_recall_fscore_support(y_test, pred_svm, average='micro'))\n",
    "print(precision_recall_fscore_support(y_test, pred_svm, average='macro'))\n",
    "print(precision_recall_fscore_support(y_test, pred_svm, average='weighted'))"
   ]
  },
  {
   "cell_type": "code",
   "execution_count": 66,
   "metadata": {
    "colab": {
     "base_uri": "https://localhost:8080/",
     "height": 363
    },
    "colab_type": "code",
    "executionInfo": {
     "elapsed": 68646,
     "status": "ok",
     "timestamp": 1587636096052,
     "user": {
      "displayName": "Ram Damera",
      "photoUrl": "https://lh3.googleusercontent.com/a-/AOh14GisjxJ6K7BHWSlIsAZ0n36P8UGDrLw6CtOeRPeqyQ=s64",
      "userId": "12065644630504145454"
     },
     "user_tz": -330
    },
    "id": "6eJGo0oedT_-",
    "outputId": "3f062a58-dd50-4d4b-ad5f-6f99ec468b92"
   },
   "outputs": [
    {
     "name": "stdout",
     "output_type": "stream",
     "text": [
      "SVM accuracy is 0.9786689419795221\n"
     ]
    },
    {
     "data": {
      "image/png": "[encoded data removed]",
      "text/plain": [
       "<Figure size 432x288 with 1 Axes>"
      ]
     },
     "metadata": {
      "needs_background": "light"
     },
     "output_type": "display_data"
    },
    {
     "name": "stdout",
     "output_type": "stream",
     "text": [
      "(0.9786689419795221, 0.9786689419795221, 0.9786689419795221, None)\n",
      "(0.8425589842908343, 0.9735526434432389, 0.8960552487229314, None)\n",
      "(0.9844194904850885, 0.9786689419795221, 0.9803780230223773, None)\n"
     ]
    }
   ],
   "source": [
    "# scaled SVM\n",
    "\n",
    "svm_clf_sd = SVC(probability=True, class_weight='balanced')\n",
    "svm_clf_sd.fit(sd_X_train, y_train)\n",
    "pred_svm_sd = svm_clf_sd.predict(sd_X_test)\n",
    "print('SVM accuracy is', accuracy_score(y_test, pred_svm_sd))\n",
    "draw_roc_auc(svm_clf_sd, sd_X_test, y_test)\n",
    "print(precision_recall_fscore_support(y_test, pred_svm_sd, average='micro'))\n",
    "print(precision_recall_fscore_support(y_test, pred_svm_sd, average='macro'))\n",
    "print(precision_recall_fscore_support(y_test, pred_svm_sd, average='weighted'))"
   ]
  },
  {
   "cell_type": "markdown",
   "metadata": {
    "colab_type": "text",
    "id": "IhGff7a0GS-f"
   },
   "source": [
    "# Naive Bayes"
   ]
  },
  {
   "cell_type": "code",
   "execution_count": 67,
   "metadata": {
    "colab": {
     "base_uri": "https://localhost:8080/",
     "height": 363
    },
    "colab_type": "code",
    "executionInfo": {
     "elapsed": 67642,
     "status": "ok",
     "timestamp": 1587636096067,
     "user": {
      "displayName": "Ram Damera",
      "photoUrl": "https://lh3.googleusercontent.com/a-/AOh14GisjxJ6K7BHWSlIsAZ0n36P8UGDrLw6CtOeRPeqyQ=s64",
      "userId": "12065644630504145454"
     },
     "user_tz": -330
    },
    "id": "gwr6XwFfsmTw",
    "outputId": "98b41b82-7b5f-4411-dd8d-10e284626d70"
   },
   "outputs": [
    {
     "name": "stdout",
     "output_type": "stream",
     "text": [
      "GaussianNB accuracy is 0.9510370175899187\n"
     ]
    },
    {
     "data": {
      "image/png": "[encoded data removed]",
      "text/plain": [
       "<Figure size 432x288 with 1 Axes>"
      ]
     },
     "metadata": {
      "needs_background": "light"
     },
     "output_type": "display_data"
    },
    {
     "name": "stdout",
     "output_type": "stream",
     "text": [
      "(0.9510370175899187, 0.9510370175899187, 0.9510370175899187, None)\n",
      "(0.7313151131996936, 0.8688004568543175, 0.7813615044101049, None)\n",
      "(0.9660011287980048, 0.9510370175899187, 0.9566246034061514, None)\n"
     ]
    }
   ],
   "source": [
    "# non scaled NB\n",
    "\n",
    "nb = GaussianNB()\n",
    "nb.fit(X_train, y_train)\n",
    "pred_nb = nb.predict(X_test)\n",
    "print('GaussianNB accuracy is', accuracy_score(y_test, pred_nb))\n",
    "draw_roc_auc(nb, X_test, y_test)\n",
    "print(precision_recall_fscore_support(y_test, pred_nb, average='micro'))\n",
    "print(precision_recall_fscore_support(y_test, pred_nb, average='macro'))\n",
    "print(precision_recall_fscore_support(y_test, pred_nb, average='weighted'))"
   ]
  },
  {
   "cell_type": "code",
   "execution_count": 68,
   "metadata": {
    "colab": {
     "base_uri": "https://localhost:8080/",
     "height": 363
    },
    "colab_type": "code",
    "executionInfo": {
     "elapsed": 66831,
     "status": "ok",
     "timestamp": 1587636096068,
     "user": {
      "displayName": "Ram Damera",
      "photoUrl": "https://lh3.googleusercontent.com/a-/AOh14GisjxJ6K7BHWSlIsAZ0n36P8UGDrLw6CtOeRPeqyQ=s64",
      "userId": "12065644630504145454"
     },
     "user_tz": -330
    },
    "id": "8YinpLcqtkK0",
    "outputId": "9edab414-67ae-42a6-b774-a209de1725c7"
   },
   "outputs": [
    {
     "name": "stdout",
     "output_type": "stream",
     "text": [
      "GaussianNB accuracy is 0.9502494092937779\n"
     ]
    },
    {
     "data": {
      "image/png": "[encoded data removed]",
      "text/plain": [
       "<Figure size 432x288 with 1 Axes>"
      ]
     },
     "metadata": {
      "needs_background": "light"
     },
     "output_type": "display_data"
    },
    {
     "name": "stdout",
     "output_type": "stream",
     "text": [
      "(0.9502494092937779, 0.9502494092937779, 0.9502494092937779, None)\n",
      "(0.73125046784939, 0.8961680342239988, 0.787886728908713, None)\n",
      "(0.9685278454818528, 0.9502494092937779, 0.9567536607060528, None)\n"
     ]
    }
   ],
   "source": [
    "# scaled NB\n",
    "\n",
    "nb_sd = GaussianNB()\n",
    "nb_sd.fit(sd_X_train, y_train)\n",
    "pred_nb_sd = nb_sd.predict(sd_X_test)\n",
    "print('GaussianNB accuracy is', accuracy_score(y_test, pred_nb_sd))\n",
    "draw_roc_auc(nb_sd, sd_X_test, y_test)\n",
    "print(precision_recall_fscore_support(y_test, pred_nb_sd, average='micro'))\n",
    "print(precision_recall_fscore_support(y_test, pred_nb_sd, average='macro'))\n",
    "print(precision_recall_fscore_support(y_test, pred_nb_sd, average='weighted'))"
   ]
  },
  {
   "cell_type": "markdown",
   "metadata": {
    "colab_type": "text",
    "id": "5V2Uqd63GMZh"
   },
   "source": [
    "# Decission Tree"
   ]
  },
  {
   "cell_type": "code",
   "execution_count": 69,
   "metadata": {
    "colab": {
     "base_uri": "https://localhost:8080/",
     "height": 363
    },
    "colab_type": "code",
    "executionInfo": {
     "elapsed": 67054,
     "status": "ok",
     "timestamp": 1587636096973,
     "user": {
      "displayName": "Ram Damera",
      "photoUrl": "https://lh3.googleusercontent.com/a-/AOh14GisjxJ6K7BHWSlIsAZ0n36P8UGDrLw6CtOeRPeqyQ=s64",
      "userId": "12065644630504145454"
     },
     "user_tz": -330
    },
    "id": "aNzmpHc5uJuD",
    "outputId": "4ad24b13-fd72-4453-947c-336f14889d31"
   },
   "outputs": [
    {
     "name": "stdout",
     "output_type": "stream",
     "text": [
      "DTC accuracy is 0.9967182987660803\n"
     ]
    },
    {
     "data": {
      "image/png": "[encoded data removed]",
      "text/plain": [
       "<Figure size 432x288 with 1 Axes>"
      ]
     },
     "metadata": {
      "needs_background": "light"
     },
     "output_type": "display_data"
    },
    {
     "name": "stdout",
     "output_type": "stream",
     "text": [
      "(0.9967182987660803, 0.9967182987660803, 0.9967182987660803, None)\n",
      "(0.9809193191267671, 0.9809193191267671, 0.9809193191267671, None)\n",
      "(0.9967182987660803, 0.9967182987660803, 0.9967182987660803, None)\n"
     ]
    }
   ],
   "source": [
    "# non scaled DTC\n",
    "\n",
    "dt = DecisionTreeClassifier()\n",
    "dt.fit(X_train, y_train)\n",
    "pred_dt = dt.predict(X_test)\n",
    "print('DTC accuracy is', accuracy_score(y_test, pred_dt))\n",
    "draw_roc_auc(dt, X_test, y_test)\n",
    "print(precision_recall_fscore_support(y_test, pred_dt, average='micro'))\n",
    "print(precision_recall_fscore_support(y_test, pred_dt, average='macro'))\n",
    "print(precision_recall_fscore_support(y_test, pred_dt, average='weighted'))"
   ]
  },
  {
   "cell_type": "code",
   "execution_count": 70,
   "metadata": {
    "colab": {
     "base_uri": "https://localhost:8080/",
     "height": 363
    },
    "colab_type": "code",
    "executionInfo": {
     "elapsed": 66372,
     "status": "ok",
     "timestamp": 1587636096974,
     "user": {
      "displayName": "Ram Damera",
      "photoUrl": "https://lh3.googleusercontent.com/a-/AOh14GisjxJ6K7BHWSlIsAZ0n36P8UGDrLw6CtOeRPeqyQ=s64",
      "userId": "12065644630504145454"
     },
     "user_tz": -330
    },
    "id": "upzVEbY0vg9b",
    "outputId": "d467405a-0311-44c5-9cfd-9f187ab3b534"
   },
   "outputs": [
    {
     "name": "stdout",
     "output_type": "stream",
     "text": [
      "DTC accuracy is 0.9965870307167235\n"
     ]
    },
    {
     "data": {
      "image/png": "[encoded data removed]",
      "text/plain": [
       "<Figure size 432x288 with 1 Axes>"
      ]
     },
     "metadata": {
      "needs_background": "light"
     },
     "output_type": "display_data"
    },
    {
     "name": "stdout",
     "output_type": "stream",
     "text": [
      "(0.9965870307167235, 0.9965870307167235, 0.9965870307167235, None)\n",
      "(0.9801560918918377, 0.9801560918918377, 0.9801560918918377, None)\n",
      "(0.9965870307167235, 0.9965870307167235, 0.9965870307167235, None)\n"
     ]
    }
   ],
   "source": [
    "# scaled DTC\n",
    "\n",
    "dt_sd = DecisionTreeClassifier()\n",
    "dt_sd.fit(sd_X_train, y_train)\n",
    "pred_dt_sd = dt_sd.predict(sd_X_test)\n",
    "print('DTC accuracy is', accuracy_score(y_test, pred_dt_sd))\n",
    "draw_roc_auc(dt_sd, sd_X_test, y_test)\n",
    "print(precision_recall_fscore_support(y_test, pred_dt_sd, average='micro'))\n",
    "print(precision_recall_fscore_support(y_test, pred_dt_sd, average='macro'))\n",
    "print(precision_recall_fscore_support(y_test, pred_dt_sd, average='weighted'))"
   ]
  },
  {
   "cell_type": "markdown",
   "metadata": {
    "colab_type": "text",
    "id": "TUhKVXy-GHJ0"
   },
   "source": [
    "# Random Forest"
   ]
  },
  {
   "cell_type": "code",
   "execution_count": 71,
   "metadata": {
    "colab": {
     "base_uri": "https://localhost:8080/",
     "height": 363
    },
    "colab_type": "code",
    "executionInfo": {
     "elapsed": 69773,
     "status": "ok",
     "timestamp": 1587636101132,
     "user": {
      "displayName": "Ram Damera",
      "photoUrl": "https://lh3.googleusercontent.com/a-/AOh14GisjxJ6K7BHWSlIsAZ0n36P8UGDrLw6CtOeRPeqyQ=s64",
      "userId": "12065644630504145454"
     },
     "user_tz": -330
    },
    "id": "yKkYeMYLxPMF",
    "outputId": "a69baee8-309a-468d-a0ed-2a7db81b79de"
   },
   "outputs": [
    {
     "name": "stdout",
     "output_type": "stream",
     "text": [
      "Random Forest accuracy is 0.9974402730375427\n"
     ]
    },
    {
     "data": {
      "image/png": "[encoded data removed]",
      "text/plain": [
       "<Figure size 432x288 with 1 Axes>"
      ]
     },
     "metadata": {
      "needs_background": "light"
     },
     "output_type": "display_data"
    },
    {
     "name": "stdout",
     "output_type": "stream",
     "text": [
      "(0.9974402730375427, 0.9974402730375427, 0.9974402730375427, None)\n",
      "(0.9908176978844108, 0.9792138298618416, 0.9849391442363784, None)\n",
      "(0.9974240716017098, 0.9974402730375427, 0.9974249629597658, None)\n"
     ]
    }
   ],
   "source": [
    "# non scaled RF\n",
    "\n",
    "rf = RandomForestClassifier()\n",
    "rf.fit(X_train, y_train)\n",
    "pred_rf = rf.predict(X_test)\n",
    "print('Random Forest accuracy is', accuracy_score(y_test, pred_rf))\n",
    "draw_roc_auc(rf, X_test, y_test)\n",
    "print(precision_recall_fscore_support(y_test, pred_rf, average='micro'))\n",
    "print(precision_recall_fscore_support(y_test, pred_rf, average='macro'))\n",
    "print(precision_recall_fscore_support(y_test, pred_rf, average='weighted'))"
   ]
  },
  {
   "cell_type": "code",
   "execution_count": 72,
   "metadata": {
    "colab": {
     "base_uri": "https://localhost:8080/",
     "height": 363
    },
    "colab_type": "code",
    "executionInfo": {
     "elapsed": 72032,
     "status": "ok",
     "timestamp": 1587636103982,
     "user": {
      "displayName": "Ram Damera",
      "photoUrl": "https://lh3.googleusercontent.com/a-/AOh14GisjxJ6K7BHWSlIsAZ0n36P8UGDrLw6CtOeRPeqyQ=s64",
      "userId": "12065644630504145454"
     },
     "user_tz": -330
    },
    "id": "_Lwm0N3BxeUc",
    "outputId": "a2b52655-8d7d-4274-ecf7-09b0d6d90454"
   },
   "outputs": [
    {
     "name": "stdout",
     "output_type": "stream",
     "text": [
      "Random Forest accuracy is 0.9974402730375427\n"
     ]
    },
    {
     "data": {
      "image/png": "[encoded data removed]",
      "text/plain": [
       "<Figure size 432x288 with 1 Axes>"
      ]
     },
     "metadata": {
      "needs_background": "light"
     },
     "output_type": "display_data"
    },
    {
     "name": "stdout",
     "output_type": "stream",
     "text": [
      "(0.9974402730375427, 0.9974402730375427, 0.9974402730375427, None)\n",
      "(0.9887711721061079, 0.9812973259996193, 0.9850024498946506, None)\n",
      "(0.997426538324847, 0.9974402730375427, 0.9974304124209968, None)\n"
     ]
    }
   ],
   "source": [
    "# scaled RF\n",
    "\n",
    "rf_sd = RandomForestClassifier()\n",
    "rf_sd.fit(sd_X_train, y_train)\n",
    "pred_rf_sd = rf_sd.predict(sd_X_test)\n",
    "print('Random Forest accuracy is', accuracy_score(y_test, pred_rf_sd))\n",
    "draw_roc_auc(rf_sd, sd_X_test, y_test)\n",
    "print(precision_recall_fscore_support(y_test, pred_rf_sd, average='micro'))\n",
    "print(precision_recall_fscore_support(y_test, pred_rf_sd, average='macro'))\n",
    "print(precision_recall_fscore_support(y_test, pred_rf_sd, average='weighted'))"
   ]
  },
  {
   "cell_type": "code",
   "execution_count": 73,
   "metadata": {
    "colab": {
     "base_uri": "https://localhost:8080/",
     "height": 34
    },
    "colab_type": "code",
    "executionInfo": {
     "elapsed": 71165,
     "status": "ok",
     "timestamp": 1587636103985,
     "user": {
      "displayName": "Ram Damera",
      "photoUrl": "https://lh3.googleusercontent.com/a-/AOh14GisjxJ6K7BHWSlIsAZ0n36P8UGDrLw6CtOeRPeqyQ=s64",
      "userId": "12065644630504145454"
     },
     "user_tz": -330
    },
    "id": "SE1E_2Zt0NDr",
    "outputId": "98b7802f-23ea-4671-8945-4a3a372c26f5"
   },
   "outputs": [
    {
     "data": {
      "text/plain": [
       "(15236, 686, 669)"
      ]
     },
     "execution_count": 73,
     "metadata": {},
     "output_type": "execute_result"
    }
   ],
   "source": [
    "len(y_test['isbot']), sum(y_test['isbot']), sum(pred_rf)"
   ]
  },
  {
   "cell_type": "markdown",
   "metadata": {
    "colab_type": "text",
    "id": "JLaGVDpKF-8a"
   },
   "source": [
    "# Ensemble"
   ]
  },
  {
   "cell_type": "code",
   "execution_count": 83,
   "metadata": {
    "colab": {
     "base_uri": "https://localhost:8080/",
     "height": 363
    },
    "colab_type": "code",
    "executionInfo": {
     "elapsed": 42999,
     "status": "ok",
     "timestamp": 1587643439134,
     "user": {
      "displayName": "Ram Damera",
      "photoUrl": "https://lh3.googleusercontent.com/a-/AOh14GisjxJ6K7BHWSlIsAZ0n36P8UGDrLw6CtOeRPeqyQ=s64",
      "userId": "12065644630504145454"
     },
     "user_tz": -330
    },
    "id": "BZro4WMjgFO7",
    "outputId": "8f29a63b-4392-457d-c5ed-7d915795fc9e"
   },
   "outputs": [
    {
     "name": "stdout",
     "output_type": "stream",
     "text": [
      "Ensemble accuracy is 0.9975059070622211\n"
     ]
    },
    {
     "data": {
      "image/png": "[encoded data removed]",
      "text/plain": [
       "<Figure size 432x288 with 1 Axes>"
      ]
     },
     "metadata": {
      "needs_background": "light"
     },
     "output_type": "display_data"
    },
    {
     "name": "stdout",
     "output_type": "stream",
     "text": [
      "(0.9975059070622211, 0.9975059070622211, 0.9975059070622211, None)\n",
      "(0.9894976845144285, 0.9813316902607876, 0.9853767599372807, None)\n",
      "(0.9974920679679564, 0.9975059070622211, 0.9974954177450188, None)\n"
     ]
    }
   ],
   "source": [
    "# ensemble all models together\n",
    "\n",
    "from sklearn.ensemble import VotingClassifier\n",
    "\n",
    "\n",
    "clf_sv = SVC(probability=True, class_weight='balanced')\n",
    "clf_nb = GaussianNB()\n",
    "clf_dt = DecisionTreeClassifier()\n",
    "clf_rf = RandomForestClassifier()\n",
    "\n",
    "ensemble = VotingClassifier(\n",
    "  estimators=[\n",
    "    ('Random Forest', clf_rf),\n",
    "    ('Decission Tree', clf_dt),\n",
    "    ('Gaussian Naive Bayes', clf_nb),\n",
    "    ('SVM SVC', clf_sv)\n",
    "  ], voting='soft', weights=[5, 4, 2, 1]).fit(sd_X_train, y_train)\n",
    "\n",
    "pred_ensemble = ensemble.predict(sd_X_test)\n",
    "print('Ensemble accuracy is', accuracy_score(y_test, pred_ensemble))\n",
    "draw_roc_auc(ensemble, sd_X_test, y_test)\n",
    "print(precision_recall_fscore_support(y_test, pred_ensemble, average='micro'))\n",
    "print(precision_recall_fscore_support(y_test, pred_ensemble, average='macro'))\n",
    "print(precision_recall_fscore_support(y_test, pred_ensemble, average='weighted'))"
   ]
  },
  {
   "cell_type": "markdown",
   "metadata": {
    "colab_type": "text",
    "id": "3OMnSoL_f33O"
   },
   "source": [
    " ## Stratified shuffle split"
   ]
  },
  {
   "cell_type": "code",
   "execution_count": 85,
   "metadata": {
    "colab": {
     "base_uri": "https://localhost:8080/",
     "height": 442
    },
    "colab_type": "code",
    "executionInfo": {
     "elapsed": 85597,
     "status": "ok",
     "timestamp": 1587636313494,
     "user": {
      "displayName": "Ram Damera",
      "photoUrl": "https://lh3.googleusercontent.com/a-/AOh14GisjxJ6K7BHWSlIsAZ0n36P8UGDrLw6CtOeRPeqyQ=s64",
      "userId": "12065644630504145454"
     },
     "user_tz": -330
    },
    "id": "ZsWG3PbI2-AU",
    "outputId": "8f4d310b-8bbe-4428-f2a7-8432c8019041"
   },
   "outputs": [
    {
     "name": "stdout",
     "output_type": "stream",
     "text": [
      "Random Forest accuracy is 0.9965213966920452\n",
      "(0.9964917899868032, 0.9965213966920452, 0.9964936352920821, None)\n",
      "Random Forest accuracy is 0.9971121029141506\n",
      "(0.9970933492090228, 0.9971121029141506, 0.9970859895483298, None)\n",
      "Random Forest accuracy is 0.9965870307167235\n",
      "(0.9965658005726682, 0.9965870307167235, 0.9965729386024283, None)\n",
      "Random Forest accuracy is 0.9982278813336833\n",
      "(0.9982230333321682, 0.9982278813336833, 0.998224848704582, None)\n",
      "Random Forest accuracy is 0.9969152008401155\n",
      "(0.9968942347894728, 0.9969152008401155, 0.9968992430644962, None)\n",
      "Random Forest accuracy is 0.9967839327907587\n",
      "(0.9967585915767522, 0.9967839327907587, 0.996758266590793, None)\n",
      "Random Forest accuracy is 0.9966526647414019\n",
      "(0.9966262775832438, 0.9966526647414019, 0.9966306642487471, None)\n",
      "Random Forest accuracy is 0.9976371751115778\n",
      "(0.9976246968546855, 0.9976371751115778, 0.9976274190324503, None)\n",
      "Random Forest accuracy is 0.9970464688894723\n",
      "(0.9970529257054587, 0.9970464688894723, 0.9970494832638018, None)\n",
      "Random Forest accuracy is 0.9970464688894723\n",
      "(0.9970346572733423, 0.9970464688894723, 0.997039382029806, None)\n",
      "Random Forest accuracy is 0.9975059070622211\n",
      "(0.9974936340733074, 0.9975059070622211, 0.997497338357525, None)\n",
      "Random Forest accuracy is 0.9975059070622211\n",
      "(0.9974917940824851, 0.9975059070622211, 0.9974868826461443, None)\n",
      "Random Forest accuracy is 0.9971121029141506\n",
      "(0.9970993439099236, 0.9971121029141506, 0.9971041776243422, None)\n",
      "Random Forest accuracy is 0.9968495668154371\n",
      "(0.9968272389579436, 0.9968495668154371, 0.9968321697712952, None)\n",
      "Random Forest accuracy is 0.9977684431609346\n",
      "(0.9977593085409038, 0.9977684431609346, 0.9977623190733554, None)\n",
      "Random Forest accuracy is 0.9964557626673668\n",
      "(0.9964249246689395, 0.9964557626673668, 0.9964262250481911, None)\n",
      "Random Forest accuracy is 0.9973746390128643\n",
      "(0.9973581817398883, 0.9973746390128643, 0.9973601414760794, None)\n",
      "Random Forest accuracy is 0.9982278813336833\n",
      "(0.9982230333321682, 0.9982278813336833, 0.998224848704582, None)\n",
      "Random Forest accuracy is 0.9967182987660803\n",
      "(0.996692413077701, 0.9967182987660803, 0.9966955770805783, None)\n",
      "Random Forest accuracy is 0.9969808348647939\n",
      "(0.9969733420300094, 0.9969808348647939, 0.9969767046293226, None)\n",
      "Random Forest accuracy is 0.9969808348647939\n",
      "(0.9969643816697349, 0.9969808348647939, 0.9969470790038175, None)\n",
      "Random Forest accuracy is 0.9970464688894723\n",
      "(0.9970346572733423, 0.9970464688894723, 0.997039382029806, None)\n",
      "Random Forest accuracy is 0.9969808348647939\n",
      "(0.9969701572373315, 0.9969808348647939, 0.9969746301278339, None)\n",
      "Random Forest accuracy is 0.9982278813336833\n",
      "(0.9982208962085302, 0.9982278813336833, 0.9982224060302057, None)\n",
      "Random Forest accuracy is 0.9976371751115778\n",
      "(0.9976237301784832, 0.9976371751115778, 0.9976224739399823, None)\n"
     ]
    }
   ],
   "source": [
    "# StratifiedShuffleSplit, for rigorous training but doesn't help in improving\n",
    "\n",
    "import numpy as np\n",
    "from sklearn.model_selection import StratifiedShuffleSplit\n",
    "\n",
    "sss = StratifiedShuffleSplit(n_splits=25, test_size=0.33, random_state=23)\n",
    "\n",
    "XX = X.values\n",
    "YY = Y.values\n",
    "\n",
    "rf_sss = VotingClassifier(\n",
    "  estimators=[\n",
    "    ('Random Forest', clf_rf),\n",
    "    ('Decission Tree', clf_dt),\n",
    "    ('Gaussian Naive Bayes', clf_nb)\n",
    "  ], voting='soft', weights=[5, 4, 2])\n",
    "\n",
    "for train_index, test_index in sss.split(XX, YY):\n",
    "  # print(\"TRAIN:\", train_index, \"TEST:\", test_index)\n",
    "  X_train, X_test = XX[train_index], XX[test_index]\n",
    "  Y_train, Y_test = YY[train_index], YY[test_index]\n",
    "\n",
    "  rf_sss.fit(X_train, Y_train)\n",
    "  pred_rf_sss = rf_sss.predict(X_test)\n",
    "  print('Random Forest accuracy is', accuracy_score(Y_test, pred_rf_sss))\n",
    "  # draw_roc_auc(rf_sss, X_test, Y_test)\n",
    "  print(precision_recall_fscore_support(Y_test, pred_rf_sss, average='weighted'))"
   ]
  },
  {
   "cell_type": "markdown",
   "metadata": {
    "colab_type": "text",
    "id": "nm2FJLcyfvQC"
   },
   "source": [
    "# Testing downwards\n"
   ]
  },
  {
   "cell_type": "code",
   "execution_count": 76,
   "metadata": {
    "colab": {},
    "colab_type": "code",
    "id": "NYF4_vOE6ltL"
   },
   "outputs": [],
   "source": [
    "import tweepy\n",
    "\n",
    "consumer_key = \"JbhkSllQEEowFT000MRpEDaWq\"\n",
    "consumer_secret = \"VoM097AKZtxSBnWvwP8MV39AGOuG1JArHf87wLpRF2L5CMZwF4\"\n",
    "access_key = \"1708179600-1jTfBFKcs3uIR4pHAAYC3y2za8051gfs0avFdRY\"\n",
    "access_secret = \"B3BOGQ7I45zq4OZWMg6gCFWj794Mjo0U4FrCsynq1y5i4\"\n",
    "\n",
    "auth = tweepy.OAuthHandler(consumer_key, consumer_secret)\n",
    "auth.set_access_token(access_key, access_secret)\n",
    "api = tweepy.API(auth)"
   ]
  },
  {
   "cell_type": "code",
   "execution_count": 77,
   "metadata": {
    "colab": {},
    "colab_type": "code",
    "id": "YlI1sqtDqr8a"
   },
   "outputs": [],
   "source": [
    "users = {}\n",
    "\n",
    "def get_user_values(hndle):\n",
    "  if hndle in users:\n",
    "    return users[hndle]\n",
    "\n",
    "  user = api.get_user(hndle)\n",
    "  from datetime import datetime\n",
    "  young_date = datetime(2019, 6, 1)\n",
    "  acct_creation_time = user.created_at\n",
    "\n",
    "  screen_name = user.screen_name\n",
    "  follower_count = user.followers_count\n",
    "  friends_count = user.friends_count\n",
    "  statuses_count = user.statuses_count\n",
    "  favorites_count = user.favourites_count\n",
    "  acct_age = (datetime(2020, 3, 1) - acct_creation_time).days\n",
    "  tweets_per_day = int(user.statuses_count) / acct_age\n",
    "\n",
    "  vals = [list({\n",
    "    'acct_age': acct_age,\n",
    "    'follower_count': user.followers_count,\n",
    "    'friends_count': user.friends_count or 1,\n",
    "    'statuses_count': user.statuses_count,\n",
    "    'favorites_count': favorites_count,\n",
    "    'avg_status_count': statuses_count / acct_age,\n",
    "    'verified_acct': 1 if user.verified else 0,\n",
    "    'default_image': 1 if user.default_profile_image else 0,\n",
    "    'default_profile': 1 if user.default_profile else 0,\n",
    "    'rel_new_acct': 1 if acct_creation_time > young_date else 0\n",
    "  }.values())]\n",
    "\n",
    "  vals_sd = sd_scalar.transform(vals)\n",
    "\n",
    "  users[hndle] = (vals, vals_sd)\n",
    "\n",
    "  return vals, vals_sd"
   ]
  },
  {
   "cell_type": "code",
   "execution_count": 89,
   "metadata": {
    "colab": {
     "base_uri": "https://localhost:8080/",
     "height": 136
    },
    "colab_type": "code",
    "executionInfo": {
     "elapsed": 9047,
     "status": "ok",
     "timestamp": 1587643921458,
     "user": {
      "displayName": "Ram Damera",
      "photoUrl": "https://lh3.googleusercontent.com/a-/AOh14GisjxJ6K7BHWSlIsAZ0n36P8UGDrLw6CtOeRPeqyQ=s64",
      "userId": "12065644630504145454"
     },
     "user_tz": -330
    },
    "id": "hUXXfxoZviK3",
    "outputId": "6c3a2445-59d7-4d6b-c738-9b21979f0a09"
   },
   "outputs": [
    {
     "name": "stdout",
     "output_type": "stream",
     "text": [
      "                       Unscaled     Scaled\n",
      "                 SVM       1          1\n",
      "          GaussianNB       1          1\n",
      "      Decission Tree       0          0\n",
      "       Random Forest       0          0\n",
      "            Ensemble       0          0\n",
      "[[0.78441725 0.21558275]]\n"
     ]
    }
   ],
   "source": [
    "vals, vals_sd = get_user_values('taylorswift13')\n",
    "\n",
    "names = ['SVM', 'GaussianNB', 'Decission Tree', 'Random Forest']\n",
    "classifiers = [[svm_clf, svm_clf_sd], [nb, nb_sd], [dt, dt_sd], [rf, rf_sd]]\n",
    "\n",
    "results = list(map(lambda t: (t[0].predict(vals), t[1].predict(vals_sd)), classifiers))\n",
    "\n",
    "print(\"%20s %10s %10s\" % ('', 'Unscaled', 'Scaled'))\n",
    "for i in range(len(names)):\n",
    "  print(\"%20s  %6d     %6d\" % (names[i], results[i][0], results[i][1]))\n",
    "print(\"%20s  %6d     %6d\" % ('Ensemble', 0, ensemble.predict(vals_sd)[0]))\n",
    "print(ensemble.predict_proba(vals_sd))"
   ]
  },
  {
   "cell_type": "markdown",
   "metadata": {
    "colab_type": "text",
    "id": "kUU9DHt-Fqux"
   },
   "source": [
    "# Test Creci"
   ]
  },
  {
   "cell_type": "code",
   "execution_count": 79,
   "metadata": {
    "colab": {},
    "colab_type": "code",
    "id": "0p20r99Cn_tn"
   },
   "outputs": [],
   "source": [
    "# bot_handles = [\"pattavis\",\"AlleHanna\",\"Peugeotcrew\",\"Cappellaio87\",\"filippotrav\",\"AnnaMinervini1\",\"lindascanona\",\"righettifrance1\",\"Diletta123\",\"LuanaPirri\",\"GInterrato\",\"lontano2009\",\"ImparatoPasqual\",\"GiuliettaSkype\",\"LorettaLORI3\",\"enzarella2\",\"raffa_brigante\",\"EMZONERI\",\"GSpasmo\",\"wasitjustalie\",\"elena2613\",\"Cat2014_Believe\",\"loririlolo\",\"Pesce98Vittoria\",\"francorosaria13\",\"citro_rosa\",\"AngiSvezia\",\"Caranoemitw\",\"beauty0fsilence\",\"zia_eli\",\"ggarigli\",\"GabriPobega\",\"Fiffistefy\",\"GiuseppinaFarin\",\"MariaHelena_ts\",\"GiulianaPoce\",\"ElenaLvdzdv\",\"annarosa701\",\"MonicaDieci\",\"VeronicaFilia\",\"Mary_Jack69\",\"allylardo\",\"IndieGameTrends\",\"brunetta_8\",\"56_nico\",\"GABRIELLAMARA2\",\"emmemea\",\"EmyScanu\",\"sorciusbarbutus\",\"1IlMigliore\",\"ILgrandeRIO\",\"launizzo\",\"THESlGNOFHARRY\",\"vivitanie\",\"giunta2016\",\"__Spiderlily__\",\"simona83imperia\",\"Gianniontheroad\",\"GiusiRiccobono\",\"NovellaPiazzi\",\"danysca22\",\"RedsRita\",\"0Claudia9\",\"BrunaVerutti\",\"circeanna\",\"Elly15vs\",\"_Vylmax\",\"novellapiazzi1\",\"MomiraMonika\",\"annatic1\",\"lorettalo22\",\"dani89vs\",\"elisabettaragg1\",\"giannalecca1\",\"lisettaliz\",\"Viola_rossa3\",\"ariacolorata2\",\"valentinamoscon\",\"vale20152\",\"tizianafu\",\"antonellautopia\",\"_harryobsessed\",\"949905e897cf45a\",\"GiorgiaAziz1d\",\"benjifede_love\",\"ilbolly\",\"mirandamossi\",\"epicfaildrone\",\"topaccia\",\"MARIACARMINATI1\",\"SuperPannocchia\",\"MariaCamillagl\",\"mielosa69\",\"mimi_t123\",\"Armonja\",\"lorettarag\",\"MenteObliqua\",\"eliptz66\",\"anomis_anomis70\",\"MaxRossi2015\",\"CarlaChianese\",\"sorriso_blu\",\"eligigarda\",\"PaolorokOri\",\"AlwaysGio__\",\"claspa62\",\"TheVoiceVS\",\"GabriGabri_ts\",\"mirtillamarino\",\"ZiaPerla\",\"claudyfulco\",\"DeiElena\",\"Giovannablu\",\"2000gmw\",\"RitaRossi6\",\"Ilmeglioretweet\",\"1dvotedfan\",\"annamariams75\",\"morgabar\",\"ulitop\",\"alfiollo90\",\"pinella69\",\"piermario_odd\",\"Anr_s92\",\"RavazzaniGuido\",\"SolaMente_te\",\"TinoVale23\",\"FraLu64\",\"MartaGobatto\",\"Laura_Ganna\",\"AutunnoSi\",\"stellacadente60\",\"I_am_a_Jcats\",\"MStruttura\",\"aurorapani\",\"sonoacido1\",\"barbaruccia2\",\"NonnaMario\",\"manola_piredda\",\"___andremauro__\",\"Tremendamenteme\",\"giorgiocupelli\",\"polveredistell7\",\"SavianaVS\",\"geomagalunare\",\"mimmapolpo\",\"MarcoMameli2\",\"Cri1DBenjieFede\",\"LiviMonica\",\"gardi_2\",\"TangaloaLazia\",\"Lisa96_Vs\",\"rosafiore13\",\"lory_rubin\",\"FiorinoKetty\",\"improta71\",\"CatholicTweet1\",\"blu3n1ghtw0lf\",\"marcolinoneri\",\"MariaNicola2\",\"MarcellaGiVi\",\"Gabri_Razzoli\",\"flaviabettini\",\"ACCOUNTPERVOTI\",\"Mithra_01\",\"pittore1960\",\"ArmataScanu\",\"io_principe\",\"mammaraffy\",\"preto_carla\",\"claudiamamy\",\"margotcheri\",\"BadGuyEilish_\",\"torrianas\",\"darkangel78\",\"Pattynavmeli9\",\"CinziaMolinari\",\"federicoinfa\",\"magitotano\",\"FrancescaDivs\",\"Ne_Ilaria\",\"marinellazanine\",\"iitsclarry\",\"elisabettadelog\",\"angelstrange200\",\"cinziagenziana\",\"coupongenie\",\"chicchiola\",\"shawcesca\",\"fefinus\",\"MuduPina\",\"Bobetta3\",\"valedisco\",\"roxiscar\",\"Sardalice2014\",\"JustinevMara\",\"emanuela635\",\"gessica_bravi\",\"dorigoalessia1\",\"Ele_1DMD\",\"emiliasal46\",\"76lauraLaura\",\"DonatellaTosati\",\"MagiMudu\",\"Claudia62VS\",\"SoniaPoletti1\",\"gemmaantonello\",\"a7042237ab0f466\",\"nichilu\"]\n",
    "# human_handles = [\"bastardo42\",\"LBrogialdi\",\"bbenzoval\",\"0nedangels\",\"gbgallus\",\"_diana87\",\"Luca10adp\",\"GianturcoMira\",\"oloapmarchi\",\"Beatiste\",\"essexelle\",\"sb_728\",\"nonnagri\",\"FabioRoscioli\",\"nunziapenelope\",\"ValterRimini\",\"VinceMaielli\",\"67Malaguti\",\"davideberg68\",\"paolamietto\",\"marosa259\",\"BoselliMarisa\",\"faberskj\",\"MyHappiness1Dhs\",\"AlessioFraumene\",\"CannovaV\",\"Stegallio8\",\"PaoloProsdocimi\",\"Giulia_1D_LM\",\"kssdhr\",\"GioLuna64\",\"trepazia\",\"betta_andrioli\",\"mari_posaazul\",\"Niurant\",\"ticchiolina\",\"ZzuCicciu\",\"rarimani\",\"missingsmth\",\"so69ny\",\"1DLads4Life\",\"coccio2001\",\"garbugli_la\",\"00_matilde\",\"1D_ilmiosogno\",\"Caracciolo93\",\"Vito_Salvo\",\"lavitamiglior3\",\"b_baolo\",\"akobsara\",\"gaelle14juillet\",\"ianna63\",\"AnnaDream74\",\"ManuBoniPH\",\"ae6b1d98c461462\",\"AlteaFerrari\",\"annalisabi76\",\"Krentak\",\"cifra73\",\"massimosideri\",\"Noviolenzadonne\",\"Shar_FedeRossi\",\"RenatoPradal\",\"Halena85\",\"CAusoni\",\"santilligia\",\"Ti_Amo_Harry\",\"AleQuinto1\",\"_Meelaanie_1D_\",\"sacchetico\",\"DelbonoRoberto\",\"stefaniamassim2\",\"Ab1Disce0mnis\",\"EneaMoscon\",\"JessicaTzn\",\"heavenloueyes\",\"il_giga\",\"florianademiche\",\"lorenzlu\",\"LeCom_\",\"Yattaran\",\"TornareAcasa\",\"paoloross\",\"Gimar95\",\"FilippoDuo\",\"sunlaughxz\",\"ceranto\",\"desimonem\",\"DomenicoFurioso\",\"EmilynotRata\",\"MarcellaMelodia\",\"InAnalisi\",\"Jackill22\",\"LoMassi\",\"Niebbo\",\"Hepicuro\",\"PaoloBaldo3\",\"DalilaIngrasci2\",\"PaoloLagonia\",\"EnzaAltieri\",\"OttoPasser\",\"LaTiger1\",\"TuLangheRoero\",\"Fuckeveryonexox\",\"CAvenali\",\"GiovanniBaldin3\",\"Salvo1Di\",\"Dany1Dlove27\",\"BorsariElena\",\"Tigermat\",\"fpatea84\",\"thanksdelpiero\",\"dentista46\",\"holdon80\",\"GingerJCB\",\"giogio_al_cubo\",\"AnnaFiusco\",\"Gianni_Elia\",\"Legambiente\",\"edoardo858\",\"Nene1d2\",\"guestofworld_\",\"LavaBarocca\",\"pasala15\",\"OGiannino\",\"eluu_eei\",\"BorgheseAle\",\"MarcoTalluto\",\"DonnySbrocca\",\"paolagolfetto\",\"whyalesswa\",\"1dlarrysaf\",\"andrearomano36\",\"cloudscouldtalk\",\"PatriziaPelleg2\",\"SBalassone\",\"ValerioRosaria\",\"adatorelli\",\"sabrina_327\",\"paola_pp77\",\"CarbonFrank\",\"_1djrection_\",\"alloralola\",\"ederoclite\",\"roscoffo\",\"trattomale\",\"NoemiServizio\",\"xyfraofk\",\"Nazzi_Mi\",\"leone150872\",\"scofieldsbaby\",\"Pippo968\",\"piricoddi\",\"santone1973\",\"Benedet84186855\",\"PiLu975\",\"avatar1dory\",\"Enpatreviso\",\"1DAnneStyles\",\"PietroGrassini\",\"Pius_XII\",\"LorisDeluxe\",\"WendyJacker2000\",\"chiara_220896\",\"Cafeponci\",\"linosegna\",\"Giovanni1DiMaio\",\"vuotodaria\",\"insomniac39012\",\"Fionami1\",\"fran_rkid\",\"gianmarcoespos2\",\"PafSamu\",\"domusperusia\",\"StefaniSer\",\"rbgiova\",\"lillialf\",\"GennusaGiusi\",\"plustoutseul\",\"DAMarciano92\",\"GreyUnicorns\",\"EffeCi5\",\"alexa1163\",\"GiuliFioravanzo\",\"Jankar1d5a6fc4\",\"ArtBeatIdeas\",\"udcandrano\",\"Queerrilla\",\"FiliFuli\",\"cercinico\",\"fabioferrero71\",\"MiMaresca429\",\"indybalasarms\",\"mammagiulietta\",\"ottogattotto\",\"Melissa1D13\",\"magnomiche\",\"CapaGira\",\"k009034\",\"FabioTraversa\",\"gasperino75\",\"FartFromAmerika\",\"BrunaMarini5\",\"GiacomoNesci\",\"Noemi929496\",\"diazepam1g\",\"giusychiacchio\",\"RobyMasetti\",\"leclerckkonenn7\",\"secesecwolf\",\"LookInThyHeart_\",\"luigic64\",\"MariaTeresa1002\",\"CaressaGiovanni\",\"paciocia88\",\"Gisi1D_06\",\"ArmandoAlej\",\"Nofeartohorses\",\"gattineri123\",\"RichiMasu\",\"venus_in_furia\",\"Imperatrice17\",\"Laus264\",\"spano81\",\"trashades\",\"RiccardoCiacci\",\"ehiRicardo\",\"LaraPolidori\",\"InMyMind80\",\"horanschords_\",\"1dmccurdians\",\"faornano\",\"hope_2419\"]\n",
    "# for h in bot_handles + human_handles:\n",
    "#     try:\n",
    "#         get_user_values(h)\n",
    "#     except Exception:\n",
    "#         pass"
   ]
  },
  {
   "cell_type": "code",
   "execution_count": 80,
   "metadata": {
    "colab": {
     "base_uri": "https://localhost:8080/",
     "height": 312
    },
    "colab_type": "code",
    "executionInfo": {
     "elapsed": 1503,
     "status": "ok",
     "timestamp": 1587645204918,
     "user": {
      "displayName": "Ram Damera",
      "photoUrl": "https://lh3.googleusercontent.com/a-/AOh14GisjxJ6K7BHWSlIsAZ0n36P8UGDrLw6CtOeRPeqyQ=s64",
      "userId": "12065644630504145454"
     },
     "user_tz": -330
    },
    "id": "Xq8XwqmI-ryI",
    "outputId": "16278838-60c9-44fe-ee32-86d0fc23e95d"
   },
   "outputs": [],
   "source": [
    "# feats = [users.get(h)[1][0] for h in bot_handles if h in users] + [users.get(h)[1][0] for h in human_handles if h in users]\n",
    "# outs = [1 for h in bot_handles if h in users] + [0 for h in human_handles if h in users]\n",
    "# print('Ensemble accuracy is', accuracy_score(outs, ensemble.predict(feats)))\n",
    "# draw_roc_auc(ensemble, feats, outs)"
   ]
  },
  {
   "cell_type": "markdown",
   "metadata": {
    "colab_type": "text",
    "id": "LZuyIBJ83Q9L"
   },
   "source": [
    "# saving models"
   ]
  },
  {
   "cell_type": "code",
   "execution_count": 81,
   "metadata": {
    "colab": {},
    "colab_type": "code",
    "id": "jYRma_nFrfnJ"
   },
   "outputs": [],
   "source": [
    "import pickle\n",
    "\n",
    "pickle.dump(svm_clf, open(path.join(pwd, 'monolith', 'svm.model'), 'wb'))\n",
    "pickle.dump(svm_clf_sd, open(path.join(pwd, 'monolith', 'svm_sd.model'), 'wb'))\n",
    "\n",
    "pickle.dump(nb, open(path.join(pwd, 'monolith', 'nb.model'), 'wb'))\n",
    "pickle.dump(nb_sd, open(path.join(pwd, 'monolith', 'nb_sd.model'), 'wb'))\n",
    "\n",
    "pickle.dump(dt, open(path.join(pwd, 'monolith', 'dt.model'), 'wb'))\n",
    "pickle.dump(dt_sd, open(path.join(pwd, 'monolith', 'dt_sd.model'), 'wb'))\n",
    "\n",
    "pickle.dump(rf, open(path.join(pwd, 'monolith', 'rf.model'), 'wb'))\n",
    "pickle.dump(rf_sd, open(path.join(pwd, 'monolith', 'rf_sd.model'), 'wb'))\n",
    "\n",
    "pickle.dump(ensemble, open(path.join(pwd, 'monolith', 'ensemble.model'), 'wb'))\n",
    "\n",
    "pickle.dump(sd_scalar, open(path.join(pwd, 'monolith', 'standard.scalar'), 'wb'))"
   ]
  }
 ],
 "metadata": {
  "colab": {
   "authorship_tag": "ABX9TyOccChVYpAQKy2SKuEI+f19",
   "collapsed_sections": [
    "3OMnSoL_f33O",
    "LZuyIBJ83Q9L"
   ],
   "mount_file_id": "1MVQIXTR9yVkNg_0bq-uO5yBrzyFNwwmv",
   "name": "model_build.ipynb",
   "provenance": []
  },
  "kernelspec": {
   "display_name": "Python 3",
   "language": "python",
   "name": "python3"
  },
  "language_info": {
   "codemirror_mode": {
    "name": "ipython",
    "version": 3
   },
   "file_extension": ".py",
   "mimetype": "text/x-python",
   "name": "python",
   "nbconvert_exporter": "python",
   "pygments_lexer": "ipython3",
   "version": "3.8.2"
  }
 },
 "nbformat": 4,
 "nbformat_minor": 1
}
