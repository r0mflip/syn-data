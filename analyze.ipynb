{
 "cells": [
  {
   "cell_type": "code",
   "execution_count": 58,
   "metadata": {
    "colab": {},
    "colab_type": "code",
    "id": "F5B7wY6ij8DR"
   },
   "outputs": [],
   "source": [
    "import pandas as pd\n",
    "import numpy as np\n",
    "import codecs\n",
    "import re\n",
    "from os import path, listdir\n",
    "import matplotlib.pyplot as plt\n",
    "import numpy as np"
   ]
  },
  {
   "cell_type": "code",
   "execution_count": 59,
   "metadata": {
    "colab": {
     "base_uri": "https://localhost:8080/",
     "height": 54
    },
    "colab_type": "code",
    "executionInfo": {
     "elapsed": 1126,
     "status": "ok",
     "timestamp": 1587652550920,
     "user": {
      "displayName": "Ram Damera",
      "photoUrl": "https://lh3.googleusercontent.com/a-/AOh14GisjxJ6K7BHWSlIsAZ0n36P8UGDrLw6CtOeRPeqyQ=s64",
      "userId": "12065644630504145454"
     },
     "user_tz": -330
    },
    "id": "RSBb30RAlDQG",
    "outputId": "25c61d78-4174-4d60-cb36-74528c4c8e59"
   },
   "outputs": [],
   "source": [
    "# from google.colab import drive\n",
    "# drive.mount('/content/drive')"
   ]
  },
  {
   "cell_type": "code",
   "execution_count": 60,
   "metadata": {
    "colab": {},
    "colab_type": "code",
    "id": "P28OfXWFlE8-"
   },
   "outputs": [],
   "source": [
    "# pwd = '/content/drive/My Drive/Colab Notebooks/tpa/'\n",
    "pwd = './'\n",
    "monolith_dir = path.join(pwd, 'monolith')\n",
    "monolith = path.join(monolith_dir, 'final_tweets.csv')"
   ]
  },
  {
   "cell_type": "code",
   "execution_count": 61,
   "metadata": {
    "colab": {
     "base_uri": "https://localhost:8080/",
     "height": 360
    },
    "colab_type": "code",
    "executionInfo": {
     "elapsed": 3735,
     "status": "ok",
     "timestamp": 1587654235869,
     "user": {
      "displayName": "Ram Damera",
      "photoUrl": "https://lh3.googleusercontent.com/a-/AOh14GisjxJ6K7BHWSlIsAZ0n36P8UGDrLw6CtOeRPeqyQ=s64",
      "userId": "12065644630504145454"
     },
     "user_tz": -330
    },
    "id": "323E9Y4alOLG",
    "outputId": "0bdd4623-5869-4d79-865c-36a271d88102"
   },
   "outputs": [],
   "source": [
    "root = pd.read_csv(monolith, dtype={\n",
    "  'tweet_id': str\n",
    "  # 'tweet_text': str, 'tweet_id': str, 'user_name': str, 'user_screen_name': str,\n",
    "  # 'user_location': str, 'user_description': str, 'user_follower_count': int,\n",
    "  # 'user_friends_count': int, 'user_listed_count': int, 'user_statuses_count': int,\n",
    "  # 'user_favourites_count': int, 'user_verified': bool, 'user_default_profile_image': bool,\n",
    "  # 'user_default_profile': bool, 'user_protected': bool, 'user_created_at': str\n",
    "}, engine='c', chunksize=500)\n",
    "chunks = [chunk for chunk in root]\n",
    "root = pd.concat(chunks)"
   ]
  },
  {
   "cell_type": "code",
   "execution_count": 62,
   "metadata": {
    "colab": {
     "base_uri": "https://localhost:8080/",
     "height": 323
    },
    "colab_type": "code",
    "executionInfo": {
     "elapsed": 1676,
     "status": "ok",
     "timestamp": 1587654180657,
     "user": {
      "displayName": "Ram Damera",
      "photoUrl": "https://lh3.googleusercontent.com/a-/AOh14GisjxJ6K7BHWSlIsAZ0n36P8UGDrLw6CtOeRPeqyQ=s64",
      "userId": "12065644630504145454"
     },
     "user_tz": -330
    },
    "id": "se3H5i6rlkSS",
    "outputId": "942716bc-a266-4fab-8246-4eb5bb3bd936"
   },
   "outputs": [
    {
     "name": "stdout",
     "output_type": "stream",
     "text": [
      "(389361, 16)\n",
      "tweet_text                    object\n",
      "tweet_id                      object\n",
      "user_name                     object\n",
      "user_screen_name              object\n",
      "user_location                 object\n",
      "user_description              object\n",
      "user_follower_count           object\n",
      "user_friends_count            object\n",
      "user_listed_count             object\n",
      "user_statuses_count           object\n",
      "user_favourites_count         object\n",
      "user_verified                 object\n",
      "user_default_profile_image    object\n",
      "user_default_profile          object\n",
      "user_protected                object\n",
      "user_created_at               object\n",
      "dtype: object\n"
     ]
    }
   ],
   "source": [
    "root = root.dropna()\n",
    "print(root.shape)\n",
    "print(root.dtypes)"
   ]
  },
  {
   "cell_type": "code",
   "execution_count": 63,
   "metadata": {
    "colab": {
     "base_uri": "https://localhost:8080/",
     "height": 34
    },
    "colab_type": "code",
    "executionInfo": {
     "elapsed": 101546,
     "status": "ok",
     "timestamp": 1587647045467,
     "user": {
      "displayName": "Ram Damera",
      "photoUrl": "https://lh3.googleusercontent.com/a-/AOh14GisjxJ6K7BHWSlIsAZ0n36P8UGDrLw6CtOeRPeqyQ=s64",
      "userId": "12065644630504145454"
     },
     "user_tz": -330
    },
    "id": "mc3q4Na5noMH",
    "outputId": "fbe1dc2c-1c06-4696-b913-242eaee21d2d"
   },
   "outputs": [
    {
     "name": "stdout",
     "output_type": "stream",
     "text": [
      "Unique users 46531\n"
     ]
    }
   ],
   "source": [
    "# find users\n",
    "\n",
    "users = {}\n",
    "\n",
    "user_fields = [\n",
    "  'user_name', 'user_screen_name', 'user_location',\n",
    "  'user_description', 'user_follower_count', 'user_friends_count',\n",
    "  'user_listed_count', 'user_statuses_count', 'user_favourites_count',\n",
    "  'user_verified', 'user_default_profile_image', 'user_default_profile',\n",
    "  'user_protected', 'user_created_at'\n",
    "]\n",
    "\n",
    "for _, row in root.iterrows():\n",
    "  un = str(row['user_screen_name'])\n",
    "  if un in users:\n",
    "    for k in user_fields:\n",
    "      users[un][k] = users[un][k] or row[k]\n",
    "    # append tweet to user object\n",
    "    users[un]['tweets'].append({row['tweet_id']: row['tweet_text']})\n",
    "  else:\n",
    "    users[un] = {}\n",
    "    users[un] = {k: row[k] for k in user_fields}\n",
    "    users[un]['tweets'] = [{row['tweet_id']: row['tweet_text']}]\n",
    "    users[un]['bot'] = False\n",
    "\n",
    "print('Unique users', len(users))"
   ]
  },
  {
   "cell_type": "code",
   "execution_count": 64,
   "metadata": {
    "colab": {
     "base_uri": "https://localhost:8080/",
     "height": 54
    },
    "colab_type": "code",
    "executionInfo": {
     "elapsed": 904,
     "status": "ok",
     "timestamp": 1587648153875,
     "user": {
      "displayName": "Ram Damera",
      "photoUrl": "https://lh3.googleusercontent.com/a-/AOh14GisjxJ6K7BHWSlIsAZ0n36P8UGDrLw6CtOeRPeqyQ=s64",
      "userId": "12065644630504145454"
     },
     "user_tz": -330
    },
    "id": "a9BNEwPK70Iy",
    "outputId": "71ce4191-26b0-4ea3-8149-611dced171c7"
   },
   "outputs": [
    {
     "name": "stdout",
     "output_type": "stream",
     "text": [
      "{'user_name': 'Pooja Choudhary', 'user_screen_name': 'pooojachoudhary', 'user_location': 'Delhi', 'user_description': 'Hindustani 🇮🇳 | 22 | Designer | Average Artist | Feminist | Vegetarian | Instagram: @pooojachoudhary 💌', 'user_follower_count': '53', 'user_friends_count': '31', 'user_listed_count': '0', 'user_statuses_count': '219', 'user_favourites_count': '2160', 'user_verified': False, 'user_default_profile_image': False, 'user_default_profile': True, 'user_protected': False, 'user_created_at': '2019-10-06 13:05:14', 'tweets': [{'1231982201656483841': 'मेरी दिल्ली जल रही है एक बार फिर से 💔#DelhiBurning'}], 'bot': False}\n"
     ]
    }
   ],
   "source": [
    "print(list(users.values())[0])"
   ]
  },
  {
   "cell_type": "code",
   "execution_count": 65,
   "metadata": {
    "colab": {
     "base_uri": "https://localhost:8080/",
     "height": 374
    },
    "colab_type": "code",
    "executionInfo": {
     "elapsed": 793,
     "status": "ok",
     "timestamp": 1587648156328,
     "user": {
      "displayName": "Ram Damera",
      "photoUrl": "https://lh3.googleusercontent.com/a-/AOh14GisjxJ6K7BHWSlIsAZ0n36P8UGDrLw6CtOeRPeqyQ=s64",
      "userId": "12065644630504145454"
     },
     "user_tz": -330
    },
    "id": "L-rKj043pINf",
    "outputId": "40cb4213-c686-4611-d2b8-6f7397f409c2"
   },
   "outputs": [
    {
     "name": "stdout",
     "output_type": "stream",
     "text": [
      "Unique descriptions\n",
      "('indian', 95)\n",
      "('student', 85)\n",
      "('journalist', 41)\n",
      "('🇮🇳', 28)\n",
      "('.', 26)\n",
      "('male', 24)\n",
      "('social worker', 18)\n",
      "('mechanical engineer', 16)\n",
      "('civil engineer', 16)\n",
      "('proud indian', 16)\n",
      "('social activist', 14)\n",
      "('jai hind', 13)\n",
      "('engineer', 12)\n",
      "('software engineer', 12)\n",
      "('i love my india', 12)\n",
      "('proud indian 🇮🇳', 11)\n",
      "('nationalist', 11)\n",
      "('indian🇮🇳', 11)\n",
      "('entrepreneur', 11)\n",
      "('nation first', 11)\n",
      "('जय श्री राम', 10)\n",
      "('chartered accountant', 10)\n",
      "('common man', 9)\n",
      "('writer', 9)\n",
      "('politician', 9)\n"
     ]
    }
   ],
   "source": [
    "# find descs\n",
    "\n",
    "descs = {}\n",
    "\n",
    "for row in users.values():\n",
    "  un = str(row['user_description']).lower()\n",
    "  if un in descs:\n",
    "    descs[un] = descs[un] + 1\n",
    "  else:\n",
    "    descs[un] = 1\n",
    "\n",
    "print('Unique descriptions')\n",
    "\n",
    "for l in sorted(zip(descs.keys(), descs.values()), key=lambda t: t[1], reverse=True)[:25]:\n",
    "  print(l)"
   ]
  },
  {
   "cell_type": "code",
   "execution_count": 66,
   "metadata": {
    "colab": {
     "base_uri": "https://localhost:8080/",
     "height": 281
    },
    "colab_type": "code",
    "executionInfo": {
     "elapsed": 1184,
     "status": "ok",
     "timestamp": 1587648174224,
     "user": {
      "displayName": "Ram Damera",
      "photoUrl": "https://lh3.googleusercontent.com/a-/AOh14GisjxJ6K7BHWSlIsAZ0n36P8UGDrLw6CtOeRPeqyQ=s64",
      "userId": "12065644630504145454"
     },
     "user_tz": -330
    },
    "id": "Zog3FZJcNU_M",
    "outputId": "b98ec243-405c-4b63-ac08-a5ad7350ad3b"
   },
   "outputs": [
    {
     "data": {
      "image/png": "[encoded data removed]",
      "text/plain": [
       "<Figure size 432x288 with 1 Axes>"
      ]
     },
     "metadata": {
      "needs_background": "light"
     },
     "output_type": "display_data"
    }
   ],
   "source": [
    "# find most active users\n",
    "\n",
    "active_users = {}\n",
    "\n",
    "for user in users.values():\n",
    "  un = str(user['user_screen_name']).lower()\n",
    "  active_users[un] = {'tweets': len(user['tweets']), 'statuses': row['user_statuses_count'] if str(row['user_statuses_count']).isdigit() else 0}\n",
    "\n",
    "# print('Most tweets by users', len(active_users))\n",
    "# for l in sorted(zip(active_users.keys(), active_users.values()), key=lambda t: t[1]['tweets'], reverse=True)[:20]:\n",
    "#   print(l)\n",
    "top_20 = reversed(sorted(active_users.items(), key=lambda t: t[1]['tweets'], reverse=True)[:20])\n",
    "plt.barh(*zip(*list(map(lambda t:(t[0], t[1]['tweets']), top_20))), height=0.5)\n",
    "plt.title('Most collected tweets by user')\n",
    "plt.show()"
   ]
  },
  {
   "cell_type": "code",
   "execution_count": 67,
   "metadata": {
    "colab": {
     "base_uri": "https://localhost:8080/",
     "height": 204
    },
    "colab_type": "code",
    "executionInfo": {
     "elapsed": 986,
     "status": "ok",
     "timestamp": 1586280249169,
     "user": {
      "displayName": "Ram Damera",
      "photoUrl": "https://lh3.googleusercontent.com/a-/AOh14GisjxJ6K7BHWSlIsAZ0n36P8UGDrLw6CtOeRPeqyQ=s64",
      "userId": "12065644630504145454"
     },
     "user_tz": -330
    },
    "id": "WizJDXHpTjWC",
    "outputId": "76f46125-1644-47fb-ec88-df70fb1bda14"
   },
   "outputs": [
    {
     "name": "stdout",
     "output_type": "stream",
     "text": [
      "bothrapawan53\n",
      "gyuslovebot\n",
      "bot8point2\n",
      "larryheatherbot\n",
      "humaibot\n",
      "nypdbot\n",
      "twelvebot\n",
      "botanist77\n",
      "weebsyntaxbot\n",
      "indianaimbot\n",
      "ex0bot\n"
     ]
    }
   ],
   "source": [
    "# self identified bots\n",
    "\n",
    "for un, user in users.items():\n",
    "  un = un.lower()\n",
    "  desc = user['user_description'].lower()\n",
    "  name = user['user_name'].lower()\n",
    "  if un.startswith('bot') or un.endswith('bot'):\n",
    "    print(un)\n",
    "    continue\n",
    "  # if re.compile('((^bot\\s+)|(\\s+bot\\s+)|(\\s+bot$))').match(desc):\n",
    "  #   print(un)\n",
    "  #   continue\n",
    "  # if re.compile('((^bot\\s+)|(\\s+bot\\s+)|(\\s+bot$))').match(name):\n",
    "  #   print(un)\n",
    "  #   continue"
   ]
  },
  {
   "cell_type": "code",
   "execution_count": 68,
   "metadata": {
    "colab": {
     "base_uri": "https://localhost:8080/",
     "height": 68
    },
    "colab_type": "code",
    "executionInfo": {
     "elapsed": 1592,
     "status": "ok",
     "timestamp": 1586280253423,
     "user": {
      "displayName": "Ram Damera",
      "photoUrl": "https://lh3.googleusercontent.com/a-/AOh14GisjxJ6K7BHWSlIsAZ0n36P8UGDrLw6CtOeRPeqyQ=s64",
      "userId": "12065644630504145454"
     },
     "user_tz": -330
    },
    "id": "eHNWtgMeUFP2",
    "outputId": "9037f85c-5471-4cf8-a956-3f67d6bf596e"
   },
   "outputs": [
    {
     "name": "stdout",
     "output_type": "stream",
     "text": [
      "2020-03-01 00:00:00\n",
      "Relatively new users count: 366\n",
      "Average tweet count of new users: 173.98413927617088\n"
     ]
    }
   ],
   "source": [
    "# all users within 1 year of creation date and tweets per day\n",
    "\n",
    "from datetime import datetime\n",
    "now = datetime.strptime('2020-03-01 00:00:00', '%Y-%m-%d %H:%M:%S')\n",
    "# now = datetime.now()\n",
    "\n",
    "print(now)\n",
    "\n",
    "relatively_new_users = []\n",
    "\n",
    "for user in users.values():\n",
    "  acct_creation_time = datetime.strptime(user['user_created_at'], '%Y-%m-%d %H:%M:%S')\n",
    "  if acct_creation_time > datetime(2019, 1, 1):\n",
    "    tweets_per_day = int(user['user_statuses_count']) / (now - acct_creation_time).days\n",
    "    if tweets_per_day > 100:\n",
    "      # print(user['user_screen_name'], tweets_per_day)\n",
    "      relatively_new_users.append((user['user_screen_name'], tweets_per_day))\n",
    "\n",
    "print('Relatively new users count:', len(relatively_new_users))\n",
    "print('Average tweet count of new users:',\n",
    "      sum(map(lambda t:t[1], relatively_new_users)) / len(relatively_new_users))"
   ]
  },
  {
   "cell_type": "code",
   "execution_count": 69,
   "metadata": {
    "colab": {
     "base_uri": "https://localhost:8080/",
     "height": 34
    },
    "colab_type": "code",
    "executionInfo": {
     "elapsed": 904,
     "status": "ok",
     "timestamp": 1586108374900,
     "user": {
      "displayName": "Ram Damera",
      "photoUrl": "https://lh3.googleusercontent.com/a-/AOh14GisjxJ6K7BHWSlIsAZ0n36P8UGDrLw6CtOeRPeqyQ=s64",
      "userId": "12065644630504145454"
     },
     "user_tz": -330
    },
    "id": "J3SIcOY13DVT",
    "outputId": "ae173ffd-5438-43e3-de8f-113abbec6ac7"
   },
   "outputs": [
    {
     "name": "stdout",
     "output_type": "stream",
     "text": [
      "1195\n"
     ]
    }
   ],
   "source": [
    "# users with very poor ratio of (friends / followers) count\n",
    "\n",
    "users_poor_ratio = []\n",
    "\n",
    "for un, user in users.items():\n",
    "  followers = int(user['user_follower_count'])\n",
    "  friends = int(user['user_friends_count']) or 1\n",
    "  ratio = followers / friends\n",
    "\n",
    "  # Friends >5000 is too obvious\n",
    "  # Ratio >0.85 is too close to close friends and followers\n",
    "\n",
    "  if friends > 5000 and ratio > 0.85 and not user['user_verified']:\n",
    "    # print(followers, friends, un)\n",
    "    users_poor_ratio.append(un)\n",
    "  # print(ratio, followers, friends)\n",
    "\n",
    "print(len(users_poor_ratio))"
   ]
  },
  {
   "cell_type": "code",
   "execution_count": 70,
   "metadata": {
    "colab": {
     "base_uri": "https://localhost:8080/",
     "height": 34
    },
    "colab_type": "code",
    "executionInfo": {
     "elapsed": 710,
     "status": "ok",
     "timestamp": 1586013440839,
     "user": {
      "displayName": "Ram Damera",
      "photoUrl": "https://lh3.googleusercontent.com/a-/AOh14GisjxJ6K7BHWSlIsAZ0n36P8UGDrLw6CtOeRPeqyQ=s64",
      "userId": "12065644630504145454"
     },
     "user_tz": -330
    },
    "id": "1DWdUl3IlUoq",
    "outputId": "28337a6a-f255-4186-a956-39d6f1452e91"
   },
   "outputs": [
    {
     "name": "stdout",
     "output_type": "stream",
     "text": [
      "0.10794979079497909\n"
     ]
    }
   ],
   "source": [
    "# average retweets by users with poor follower/friend ratio\n",
    "\n",
    "rt_count_by_user = [\n",
    "  len(list(filter(lambda s: s.values() and str(list(s.values())[0]).startswith('RT '), user['tweets'])))\n",
    "  for user in list(map(lambda un:users.get(un), users_poor_ratio))\n",
    "]\n",
    "\n",
    "print(sum(rt_count_by_user) / len(rt_count_by_user))"
   ]
  },
  {
   "cell_type": "code",
   "execution_count": 71,
   "metadata": {
    "colab": {
     "base_uri": "https://localhost:8080/",
     "height": 35
    },
    "colab_type": "code",
    "executionInfo": {
     "elapsed": 10159,
     "status": "ok",
     "timestamp": 1586088141634,
     "user": {
      "displayName": "Ram Damera",
      "photoUrl": "https://lh3.googleusercontent.com/a-/AOh14GisjxJ6K7BHWSlIsAZ0n36P8UGDrLw6CtOeRPeqyQ=s64",
      "userId": "12065644630504145454"
     },
     "user_tz": -330
    },
    "id": "L1j_pQV3HFST",
    "outputId": "c806e0b3-7320-4911-a439-62bb948762b6"
   },
   "outputs": [
    {
     "name": "stdout",
     "output_type": "stream",
     "text": [
      "Total RTs 3603 389361\n"
     ]
    }
   ],
   "source": [
    "# find RTs\n",
    "\n",
    "RTs = []\n",
    "\n",
    "for _, row in root.iterrows():\n",
    "  text = str(row['tweet_text'])\n",
    "  if text.startswith('RT '):\n",
    "    RTs.append(row['tweet_id'])\n",
    "\n",
    "print('Total RTs', len(RTs), len(root))"
   ]
  },
  {
   "cell_type": "code",
   "execution_count": 102,
   "metadata": {
    "colab": {
     "base_uri": "https://localhost:8080/",
     "height": 51
    },
    "colab_type": "code",
    "executionInfo": {
     "elapsed": 1202,
     "status": "ok",
     "timestamp": 1586289244855,
     "user": {
      "displayName": "Ram Damera",
      "photoUrl": "https://lh3.googleusercontent.com/a-/AOh14GisjxJ6K7BHWSlIsAZ0n36P8UGDrLw6CtOeRPeqyQ=s64",
      "userId": "12065644630504145454"
     },
     "user_tz": -330
    },
    "id": "7gHRCA-Kwxsv",
    "outputId": "6512a0e2-6c2a-4047-b948-f8e895625f63"
   },
   "outputs": [
    {
     "name": "stdout",
     "output_type": "stream",
     "text": [
      "2183 ---> 0.04691495991919366%\n",
      "['Sandeep68260056', 'inquestioner', 'IM_MAhiDixiT', 'AmbreenPTI1', 'M_A_Wahidi', 'ZartashChaudhry', 'chitralekhamag', 'Jainpankajkasan', 'Chirag_Sinh13', 'KO666Cis']\n"
     ]
    }
   ],
   "source": [
    "# start flagging\n",
    "\n",
    "bots = set()\n",
    "not_bots = set()\n",
    "\n",
    "for un, user in users.items():\n",
    "  # bot in name\n",
    "  if un.startswith('bot') or un.endswith('bot'):\n",
    "    bots.add(un)\n",
    "\n",
    "  # ton of tweets per day (upto Mar 1 2020)\n",
    "  acct_creation_time = datetime.strptime(user['user_created_at'], '%Y-%m-%d %H:%M:%S')\n",
    "  acct_age = (datetime(2020, 3, 1) - acct_creation_time).days or 1\n",
    "  tweets_per_day = int(user['user_statuses_count']) / acct_age\n",
    "  favorites_count = int(user['user_favourites_count'])\n",
    "  favorites_per_day = favorites_count / acct_age\n",
    "  friends_count = int(user['user_friends_count'])\n",
    "\n",
    "  if tweets_per_day > 150 and (user['user_default_profile_image'] or user['user_default_profile'] or not user['user_verified']):\n",
    "    bots.add(un)\n",
    "\n",
    "  # user with very poor ratio of (followers / friends) count\n",
    "  followers = int(user['user_follower_count'])\n",
    "  friends = int(user['user_friends_count']) or 1\n",
    "  ratio = followers / friends\n",
    "  if friends > 5000 and ratio > 0.85 and tweets_per_day > 50 and not user['user_verified']:\n",
    "    bots.add(un)\n",
    "  \n",
    "  if followers > 10000 and not user['user_verified'] and (favorites_per_day > 300 or favorites_count > 50):\n",
    "    bots.add(un)\n",
    "\n",
    "  # young users with poor ratio of (followers / friends) count (6 months)\n",
    "  if acct_creation_time > datetime(2019, 6, 1):\n",
    "    if friends > 500 and ratio > 0.85 and tweets_per_day > 50:\n",
    "      bots.add(un) # poor ratio\n",
    "\n",
    "  if followers > 3000 and friends_count < 50 and tweets_per_day > 100 and acct_age < 1000:\n",
    "    bots.add(un)\n",
    "\n",
    "  if un not in bots:\n",
    "    not_bots.add(un)\n",
    "print(len(bots), '---> {}%'.format(len(bots)/len(users)))\n",
    "print(list(bots)[-10:])"
   ]
  },
  {
   "cell_type": "code",
   "execution_count": 88,
   "metadata": {
    "colab": {
     "base_uri": "https://localhost:8080/",
     "height": 51
    },
    "colab_type": "code",
    "executionInfo": {
     "elapsed": 1025,
     "status": "ok",
     "timestamp": 1586286956392,
     "user": {
      "displayName": "Ram Damera",
      "photoUrl": "https://lh3.googleusercontent.com/a-/AOh14GisjxJ6K7BHWSlIsAZ0n36P8UGDrLw6CtOeRPeqyQ=s64",
      "userId": "12065644630504145454"
     },
     "user_tz": -330
    },
    "id": "7vO8kwQPzP3a",
    "outputId": "6f2e39f4-ba64-41ac-8fa1-2a4f7fdeebe6"
   },
   "outputs": [
    {
     "name": "stdout",
     "output_type": "stream",
     "text": [
      "0.14383875400824553\n",
      "0.07416343465319744\n"
     ]
    }
   ],
   "source": [
    "# average retweets by bots and notbots\n",
    "\n",
    "rt_count_by_bot_user = [\n",
    "  len(list(filter(lambda s: s.values() and str(list(s.values())[0]).startswith('RT '), user['tweets'])))\n",
    "  for user in list(map(lambda un:users.get(un), bots))\n",
    "]\n",
    "\n",
    "rt_count_by_notbot_user = [\n",
    "  len(list(filter(lambda s: s.values() and str(list(s.values())[0]).startswith('RT '), user['tweets'])))\n",
    "  for user in list(map(lambda un:users.get(un), not_bots))\n",
    "]\n",
    "\n",
    "print(sum(rt_count_by_bot_user) / len(rt_count_by_bot_user))\n",
    "print(sum(rt_count_by_notbot_user) / len(rt_count_by_notbot_user))"
   ]
  },
  {
   "cell_type": "code",
   "execution_count": 89,
   "metadata": {
    "colab": {
     "base_uri": "https://localhost:8080/",
     "height": 51
    },
    "colab_type": "code",
    "executionInfo": {
     "elapsed": 551,
     "status": "ok",
     "timestamp": 1586286956790,
     "user": {
      "displayName": "Ram Damera",
      "photoUrl": "https://lh3.googleusercontent.com/a-/AOh14GisjxJ6K7BHWSlIsAZ0n36P8UGDrLw6CtOeRPeqyQ=s64",
      "userId": "12065644630504145454"
     },
     "user_tz": -330
    },
    "id": "4UH-f0N59hGc",
    "outputId": "7d1560f7-8b40-4011-d567-7f44219841e2"
   },
   "outputs": [
    {
     "name": "stdout",
     "output_type": "stream",
     "text": [
      "95881.40907008703 - 2183 27.261807963226104 %\n",
      "12592.789753765672 - 44348 72.7381920367739 %\n"
     ]
    }
   ],
   "source": [
    "# average status counts by bots and notbots\n",
    "\n",
    "status_count_by_bot_user = [\n",
    "  int(user['user_statuses_count'])\n",
    "  for user in list(map(lambda un:users.get(un), bots))\n",
    "]\n",
    "\n",
    "status_count_by_notbot_user = [\n",
    "  int(user['user_statuses_count'])\n",
    "  for user in list(map(lambda un:users.get(un), not_bots))\n",
    "]\n",
    "\n",
    "total_status_count = sum(status_count_by_bot_user) + sum(status_count_by_notbot_user)\n",
    "print(sum(status_count_by_bot_user) / len(bots), '-', len(bots), sum(status_count_by_bot_user) / total_status_count * 100, '%')\n",
    "print(sum(status_count_by_notbot_user) / len(not_bots), '-', len(not_bots), sum(status_count_by_notbot_user) / total_status_count * 100, '%')"
   ]
  },
  {
   "cell_type": "code",
   "execution_count": 90,
   "metadata": {
    "colab": {
     "base_uri": "https://localhost:8080/",
     "height": 51
    },
    "colab_type": "code",
    "executionInfo": {
     "elapsed": 595,
     "status": "ok",
     "timestamp": 1586286958355,
     "user": {
      "displayName": "Ram Damera",
      "photoUrl": "https://lh3.googleusercontent.com/a-/AOh14GisjxJ6K7BHWSlIsAZ0n36P8UGDrLw6CtOeRPeqyQ=s64",
      "userId": "12065644630504145454"
     },
     "user_tz": -330
    },
    "id": "H5KFE6DPOMAw",
    "outputId": "fda30f66-7e66-4280-f534-d732e560232e"
   },
   "outputs": [
    {
     "name": "stdout",
     "output_type": "stream",
     "text": [
      "0 belalahmad1993\n",
      "45234397 nytimes\n"
     ]
    }
   ],
   "source": [
    "# check min and max followers\n",
    "\n",
    "min_followers = 2**32\n",
    "max_followers = -min_followers\n",
    "min_followers_user = ''\n",
    "max_followers_user = ''\n",
    "\n",
    "for user in users.values():\n",
    "  followers = int(user['user_follower_count']) if str(user['user_follower_count']).isdigit() else 0\n",
    "  if followers > max_followers:\n",
    "    max_followers = followers\n",
    "    max_followers_user = user['user_screen_name']\n",
    "\n",
    "  if followers < min_followers:\n",
    "    min_followers = followers\n",
    "    min_followers_user = user['user_screen_name']\n",
    "\n",
    "print(min_followers, min_followers_user)\n",
    "print(max_followers, max_followers_user)"
   ]
  },
  {
   "cell_type": "code",
   "execution_count": 91,
   "metadata": {
    "colab": {
     "base_uri": "https://localhost:8080/",
     "height": 51
    },
    "colab_type": "code",
    "executionInfo": {
     "elapsed": 980,
     "status": "ok",
     "timestamp": 1586286960661,
     "user": {
      "displayName": "Ram Damera",
      "photoUrl": "https://lh3.googleusercontent.com/a-/AOh14GisjxJ6K7BHWSlIsAZ0n36P8UGDrLw6CtOeRPeqyQ=s64",
      "userId": "12065644630504145454"
     },
     "user_tz": -330
    },
    "id": "B3Kh-cwPniJm",
    "outputId": "007db536-10ee-46d4-d700-b422a7277cd5"
   },
   "outputs": [
    {
     "name": "stdout",
     "output_type": "stream",
     "text": [
      "101757212\n",
      "532920281\n"
     ]
    }
   ],
   "source": [
    "# favorite count based on bots and not bots\n",
    "\n",
    "print(sum([\n",
    "  int(user['user_favourites_count']) if str(user['user_favourites_count']).isdigit() else 0\n",
    "  for user in map(lambda un:users.get(un), bots)\n",
    "]))\n",
    "\n",
    "print(sum([\n",
    "  int(user['user_favourites_count']) if str(user['user_favourites_count']).isdigit() else 0\n",
    "  for user in map(lambda un:users.get(un), not_bots)\n",
    "]))"
   ]
  },
  {
   "cell_type": "code",
   "execution_count": 93,
   "metadata": {
    "colab": {
     "base_uri": "https://localhost:8080/",
     "height": 562
    },
    "colab_type": "code",
    "executionInfo": {
     "elapsed": 1200,
     "status": "ok",
     "timestamp": 1586287883244,
     "user": {
      "displayName": "Ram Damera",
      "photoUrl": "https://lh3.googleusercontent.com/a-/AOh14GisjxJ6K7BHWSlIsAZ0n36P8UGDrLw6CtOeRPeqyQ=s64",
      "userId": "12065644630504145454"
     },
     "user_tz": -330
    },
    "id": "z1fTJWUQRMiX",
    "outputId": "08bc0751-2e9c-495e-a78f-490b62004e98"
   },
   "outputs": [
    {
     "name": "stdout",
     "output_type": "stream",
     "text": [
      "[44176, 1993, 298, 64]\n"
     ]
    },
    {
     "data": {
      "image/png": "[encoded data removed]",
      "text/plain": [
       "<Figure size 432x288 with 1 Axes>"
      ]
     },
     "metadata": {
      "needs_background": "light"
     },
     "output_type": "display_data"
    },
    {
     "data": {
      "image/png": "[encoded data removed]",
      "text/plain": [
       "<Figure size 432x288 with 1 Axes>"
      ]
     },
     "metadata": {
      "needs_background": "light"
     },
     "output_type": "display_data"
    }
   ],
   "source": [
    "# Get users in ranges\n",
    "# 0 to 10K - G1K\n",
    "# 10K to 100K - G10K\n",
    "# 100K to 1M - G100K\n",
    "# 1M+ - G1M\n",
    "\n",
    "G1K = []\n",
    "G10K = []\n",
    "G100K = []\n",
    "G1M = []\n",
    "\n",
    "for user in users.values():\n",
    "  followers = int(user['user_follower_count']) if str(user['user_follower_count']).isdigit() else 0\n",
    "  un = user['user_screen_name']\n",
    "  if followers < 10000:\n",
    "    G1K.append((un, followers))\n",
    "  elif followers < 100000:\n",
    "    G10K.append((un, followers))\n",
    "  elif followers < 1000000:\n",
    "    G100K.append((un, followers))\n",
    "  else:\n",
    "    G1M.append((un, followers))\n",
    "\n",
    "ranges = ['G1K', 'G10K', 'G100K', 'G1M']\n",
    "sizes = [len(G1K), len(G10K), len(G100K), len(G1M)]\n",
    "\n",
    "# 46K users with < 100K folowers\n",
    "# Got [46127, 306, 56, 7] for 'G1K', 'G100K', 'G1M', 'G10M'\n",
    "\n",
    "# [44116, 2011, 306, 63] for 'G1K', 'G10K', 'G100K', 'G1M'\n",
    "\n",
    "print(sizes)\n",
    "\n",
    "plt.bar(np.arange(len(ranges)), sizes, width=0.5)\n",
    "plt.xticks(np.arange(len(ranges)), ranges)\n",
    "plt.title('Accounts with ranges')\n",
    "plt.show()\n",
    "\n",
    "plt.plot(np.arange(len(ranges)), list(reversed(list(map(np.log, sizes)))))\n",
    "plt.xticks(np.arange(len(ranges)), list(reversed(ranges)))\n",
    "plt.title('Accounts with ranges (log scale)')\n",
    "plt.show()"
   ]
  },
  {
   "cell_type": "code",
   "execution_count": 94,
   "metadata": {
    "colab": {
     "base_uri": "https://localhost:8080/",
     "height": 601
    },
    "colab_type": "code",
    "executionInfo": {
     "elapsed": 1012,
     "status": "ok",
     "timestamp": 1586289251486,
     "user": {
      "displayName": "Ram Damera",
      "photoUrl": "https://lh3.googleusercontent.com/a-/AOh14GisjxJ6K7BHWSlIsAZ0n36P8UGDrLw6CtOeRPeqyQ=s64",
      "userId": "12065644630504145454"
     },
     "user_tz": -330
    },
    "id": "heCUCwdhb63e",
    "outputId": "ef10ac17-d3fb-4c8b-980c-8a659b35b4af"
   },
   "outputs": [
    {
     "name": "stdout",
     "output_type": "stream",
     "text": [
      "[545, 1569, 65, 4]\n"
     ]
    },
    {
     "data": {
      "image/png": "[encoded data removed]",
      "text/plain": [
       "<Figure size 432x288 with 1 Axes>"
      ]
     },
     "metadata": {
      "needs_background": "light"
     },
     "output_type": "display_data"
    },
    {
     "data": {
      "image/png": "[encoded data removed]",
      "text/plain": [
       "<Figure size 432x288 with 1 Axes>"
      ]
     },
     "metadata": {
      "needs_background": "light"
     },
     "output_type": "display_data"
    }
   ],
   "source": [
    "# Get bots and notbots in ranges\n",
    "# 0 to 10K - G1K\n",
    "# 10K to 100K - G10K\n",
    "# 100K to 1M - G100K\n",
    "# 1M+ - G1M\n",
    "\n",
    "G1K_bots = []\n",
    "G10K_bots = []\n",
    "G100K_bots = []\n",
    "G1M_bots = []\n",
    "\n",
    "for bot in bots:\n",
    "  user = users.get(bot)\n",
    "  followers = int(user['user_follower_count']) if str(user['user_follower_count']).isdigit() else 0\n",
    "  if followers < 10000:\n",
    "    G1K_bots.append((bot, followers))\n",
    "  elif followers < 100000:\n",
    "    G10K_bots.append((bot, followers))\n",
    "  elif followers < 1000000:\n",
    "    G100K_bots.append((bot, followers))\n",
    "  else:\n",
    "    G1M_bots.append((bot, followers))\n",
    "\n",
    "ranges = ['G1K_bots', 'G10K_bots', 'G100K_bots', 'G1M_bots']\n",
    "sizes = [len(G1K_bots), len(G10K_bots), len(G100K_bots), len(G1M_bots)]\n",
    "\n",
    "print(sizes)\n",
    "# print(G10K_bots)\n",
    "\n",
    "plt.bar(np.arange(len(ranges)), sizes, width=0.5)\n",
    "plt.xticks(np.arange(len(ranges)), ranges)\n",
    "plt.title('Bots with ranges')\n",
    "plt.show()\n",
    "\n",
    "plt.plot(np.arange(len(ranges)), list(reversed(list(map(np.log, sizes)))))\n",
    "plt.xticks(np.arange(len(ranges)), list(reversed(ranges)))\n",
    "plt.title('Bots with ranges (log scale)')\n",
    "plt.show()"
   ]
  },
  {
   "cell_type": "code",
   "execution_count": 95,
   "metadata": {
    "colab": {
     "base_uri": "https://localhost:8080/",
     "height": 54
    },
    "colab_type": "code",
    "executionInfo": {
     "elapsed": 730,
     "status": "ok",
     "timestamp": 1586286975142,
     "user": {
      "displayName": "Ram Damera",
      "photoUrl": "https://lh3.googleusercontent.com/a-/AOh14GisjxJ6K7BHWSlIsAZ0n36P8UGDrLw6CtOeRPeqyQ=s64",
      "userId": "12065644630504145454"
     },
     "user_tz": -330
    },
    "id": "bPBz4RInh4ue",
    "outputId": "31e84bfb-568b-4d98-d359-23fe9d477d4f"
   },
   "outputs": [
    {
     "name": "stdout",
     "output_type": "stream",
     "text": [
      "101\n"
     ]
    }
   ],
   "source": [
    "# RT not endorsement text in user description\n",
    "import re\n",
    "\n",
    "endorse = re.compile('RT not endorsement', re.IGNORECASE)\n",
    "\n",
    "rtne = [\n",
    "  un for un in users.keys()\n",
    "  if re.search(endorse, users.get(un)['user_description'])\n",
    "]\n",
    "print(len(rtne))"
   ]
  },
  {
   "cell_type": "code",
   "execution_count": 96,
   "metadata": {
    "colab": {
     "base_uri": "https://localhost:8080/",
     "height": 34
    },
    "colab_type": "code",
    "executionInfo": {
     "elapsed": 1954,
     "status": "ok",
     "timestamp": 1586289256161,
     "user": {
      "displayName": "Ram Damera",
      "photoUrl": "https://lh3.googleusercontent.com/a-/AOh14GisjxJ6K7BHWSlIsAZ0n36P8UGDrLw6CtOeRPeqyQ=s64",
      "userId": "12065644630504145454"
     },
     "user_tz": -330
    },
    "id": "Cc3NTdiADXZR",
    "outputId": "29748eb5-b7db-43aa-9789-16cbd54c5d03"
   },
   "outputs": [
    {
     "name": "stdout",
     "output_type": "stream",
     "text": [
      "Done writing features\n"
     ]
    }
   ],
   "source": [
    "# Save to file, final attributes\n",
    "# Final attributes\n",
    "#   screen_name - just for debugging, ignore in final\n",
    "#   acct_age\n",
    "#   follower_count\n",
    "#   friends_count\n",
    "#   statuses_count\n",
    "#   favorites_count\n",
    "#   avg_status_count\n",
    "#   verified_acct\n",
    "#   default_image\n",
    "#   default_profile\n",
    "#   rel_new_acct\n",
    "#   isbot\n",
    "\n",
    "from os import path\n",
    "import csv\n",
    "\n",
    "header = [\n",
    "  'screen_name', 'acct_age', 'follower_count', 'friends_count', 'statuses_count',\n",
    "  'favorites_count', 'avg_status_count', 'verified_acct', 'default_image',\n",
    "  'default_profile', 'rel_new_acct', 'isbot'\n",
    "]\n",
    "\n",
    "final_users = []\n",
    "\n",
    "young_date = datetime(2019, 6, 1)\n",
    "\n",
    "# pwd = '/content/drive/My Drive/Colab Notebooks/tpa/'\n",
    "pwd = './'\n",
    "features_file = path.join(pwd, 'monolith', 'features.csv')\n",
    "\n",
    "with open(features_file, 'w', newline='\\n', encoding='utf-8') as f:\n",
    "  writer = csv.writer(f)\n",
    "\n",
    "  # write header\n",
    "  writer.writerow(header)\n",
    "\n",
    "  def todigit(st):\n",
    "    return int(st) if str(st).isdigit() else 0\n",
    "\n",
    "  for user in users.values():\n",
    "    acct_creation_time = datetime.strptime(user['user_created_at'], '%Y-%m-%d %H:%M:%S')\n",
    "\n",
    "    screen_name = user['user_screen_name']\n",
    "    tweets = user['tweets']\n",
    "    follower_count = todigit(user['user_follower_count'])\n",
    "    friends_count = todigit(user['user_friends_count'])\n",
    "    statuses_count = todigit(user['user_statuses_count'])\n",
    "    favorites_count = todigit(user['user_favourites_count'])\n",
    "    acct_age = (datetime(2020, 3, 1) - acct_creation_time).days\n",
    "    tweets_per_day = int(user['user_statuses_count']) / acct_age\n",
    "\n",
    "    new_user = {\n",
    "      'screen_name': screen_name,\n",
    "      'acct_age': acct_age,\n",
    "      'follower_count': follower_count,\n",
    "      'friends_count': friends_count,\n",
    "      'statuses_count': statuses_count,\n",
    "      'favorites_count': favorites_count,\n",
    "      'avg_status_count': tweets_per_day,\n",
    "      'verified_acct': 1 if user['user_verified'] else 0,\n",
    "      'default_image': 1 if user['user_default_profile_image'] else 0,\n",
    "      'default_profile': 1 if user['user_default_profile'] else 0,\n",
    "      'rel_new_acct': 1 if acct_creation_time > young_date else 0,\n",
    "      'isbot': 1 if user['user_screen_name'] in bots else 0\n",
    "    }\n",
    "\n",
    "    # write features\n",
    "    writer.writerow(list(new_user.values()))\n",
    "\n",
    "print('Done writing features')"
   ]
  }
 ],
 "metadata": {
  "colab": {
   "authorship_tag": "ABX9TyM7NrW0NyHUT8arMAexBB3t",
   "collapsed_sections": [],
   "mount_file_id": "1dgRomr1roGtMxKBpDLP-yWX-bxtmZi0F",
   "name": "analyze.ipynb",
   "provenance": []
  },
  "kernelspec": {
   "display_name": "Python 3",
   "language": "python",
   "name": "python3"
  },
  "language_info": {
   "codemirror_mode": {
    "name": "ipython",
    "version": 3
   },
   "file_extension": ".py",
   "mimetype": "text/x-python",
   "name": "python",
   "nbconvert_exporter": "python",
   "pygments_lexer": "ipython3",
   "version": "3.8.2"
  }
 },
 "nbformat": 4,
 "nbformat_minor": 1
}
