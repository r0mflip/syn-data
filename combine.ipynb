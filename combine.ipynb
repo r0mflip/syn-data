{
 "cells": [
  {
   "cell_type": "code",
   "execution_count": 3,
   "metadata": {
    "colab": {},
    "colab_type": "code",
    "id": "qqbiUIk3rHQz"
   },
   "outputs": [],
   "source": [
    "import pandas as pd\n",
    "import numpy as np\n",
    "import codecs\n",
    "import re\n",
    "from os import path, listdir"
   ]
  },
  {
   "cell_type": "code",
   "execution_count": 2,
   "metadata": {
    "colab": {
     "base_uri": "https://localhost:8080/",
     "height": 122
    },
    "colab_type": "code",
    "executionInfo": {
     "elapsed": 26214,
     "status": "ok",
     "timestamp": 1587648350507,
     "user": {
      "displayName": "Ram Damera",
      "photoUrl": "https://lh3.googleusercontent.com/a-/AOh14GisjxJ6K7BHWSlIsAZ0n36P8UGDrLw6CtOeRPeqyQ=s64",
      "userId": "12065644630504145454"
     },
     "user_tz": -330
    },
    "id": "kNIliNq-tBy0",
    "outputId": "1aa3986a-9cf9-445c-d6ee-52c95105cc54"
   },
   "outputs": [
    {
     "name": "stdout",
     "output_type": "stream",
     "text": [
      "Go to this URL in a browser: https://accounts.google.com/o/oauth2/auth?client_id=947318989803-6bn6qk8qdgf4n4g3pfee6491hc0brc4i.apps.googleusercontent.com&redirect_uri=urn%3aietf%3awg%3aoauth%3a2.0%3aoob&response_type=code&scope=email%20https%3a%2f%2fwww.googleapis.com%2fauth%2fdocs.test%20https%3a%2f%2fwww.googleapis.com%2fauth%2fdrive%20https%3a%2f%2fwww.googleapis.com%2fauth%2fdrive.photos.readonly%20https%3a%2f%2fwww.googleapis.com%2fauth%2fpeopleapi.readonly\n",
      "\n",
      "Enter your authorization code:\n",
      "··········\n",
      "Mounted at /content/drive\n"
     ]
    }
   ],
   "source": [
    "# from google.colab import drive\n",
    "# drive.mount('/content/drive')"
   ]
  },
  {
   "cell_type": "code",
   "execution_count": 8,
   "metadata": {
    "colab": {
     "base_uri": "https://localhost:8080/",
     "height": 187
    },
    "colab_type": "code",
    "executionInfo": {
     "elapsed": 39555,
     "status": "ok",
     "timestamp": 1587649628771,
     "user": {
      "displayName": "Ram Damera",
      "photoUrl": "https://lh3.googleusercontent.com/a-/AOh14GisjxJ6K7BHWSlIsAZ0n36P8UGDrLw6CtOeRPeqyQ=s64",
      "userId": "12065644630504145454"
     },
     "user_tz": -330
    },
    "id": "IyE1vR0kI_cH",
    "outputId": "5e1daf18-9dc3-49fc-fb1a-c6488297b33c"
   },
   "outputs": [
    {
     "name": "stdout",
     "output_type": "stream",
     "text": [
      "Cloning into './repo'...\n",
      "remote: Enumerating objects: 5, done.\u001b[K\n",
      "remote: Counting objects: 100% (5/5), done.\u001b[K\n",
      "remote: Compressing objects: 100% (5/5), done.\u001b[K\n",
      "remote: Total 379 (delta 0), reused 4 (delta 0), pack-reused 374\u001b[K\n",
      "Receiving objects: 100% (379/379), 79.03 MiB | 5.02 MiB/s, done.\n",
      "Resolving deltas: 100% (100/100), done.\n",
      "Updating files: 100% (333/333), done.\n",
      "Done copying data files\n"
     ]
    }
   ],
   "source": [
    "# clone repo\n",
    "# %cd '/content/drive/My Drive/Colab Notebooks/tpa/'\n",
    "%rm -rf repo/\n",
    "%rm -rf frags/*\n",
    "!git clone https://github.com/r0mflip/syn-data ./repo\n",
    "!find repo/data/ -type f -name '*.csv' -exec cp -f {} ./frags/ \\; && echo 'Done copying data files'"
   ]
  },
  {
   "cell_type": "code",
   "execution_count": 9,
   "metadata": {
    "colab": {},
    "colab_type": "code",
    "id": "wIGvh0trtotC"
   },
   "outputs": [],
   "source": [
    "# pwd = '/content/drive/My Drive/Colab Notebooks/tpa/'\n",
    "pwd = './'\n",
    "frags_dir = path.join(pwd, 'frags')\n",
    "monolith_dir = path.join(pwd, 'monolith')"
   ]
  },
  {
   "cell_type": "code",
   "execution_count": 10,
   "metadata": {
    "colab": {
     "base_uri": "https://localhost:8080/",
     "height": 54
    },
    "colab_type": "code",
    "executionInfo": {
     "elapsed": 724,
     "status": "ok",
     "timestamp": 1587649640956,
     "user": {
      "displayName": "Ram Damera",
      "photoUrl": "https://lh3.googleusercontent.com/a-/AOh14GisjxJ6K7BHWSlIsAZ0n36P8UGDrLw6CtOeRPeqyQ=s64",
      "userId": "12065644630504145454"
     },
     "user_tz": -330
    },
    "id": "i0WTQt6dtHlC",
    "outputId": "55175470-1e2a-48c0-c5a3-77af8e24ee6d"
   },
   "outputs": [
    {
     "name": "stdout",
     "output_type": "stream",
     "text": [
      "310 ['./frags/1582563810verybigcsvah.csv', './frags/1582563810verybigcsvig.csv', './frags/1582563810verybigcsvcb.csv', './frags/1582563810verybigcsvhg.csv', './frags/1582563810verybigcsvfa.csv', './frags/1582563810verybigcsvdl.csv', './frags/1582563810verybigcsvhp.csv', './frags/1582563810verybigcsvby.csv', './frags/1582563810verybigcsvju.csv', './frags/1582563810verybigcsvke.csv', './frags/1582563810verybigcsvai.csv', './frags/1582563810verybigcsvkl.csv', './frags/1582563810verybigcsviz.csv', './frags/1582563810verybigcsvix.csv', './frags/1582563810verybigcsvhv.csv', './frags/1582563810verybigcsvee.csv', './frags/1582563810verybigcsvif.csv', './frags/1582563810verybigcsvcz.csv', './frags/1582563810verybigcsvgc.csv', './frags/1582563810verybigcsvgo.csv', './frags/1582563810verybigcsvdz.csv', './frags/1582563810verybigcsvck.csv', './frags/1582563810verybigcsvcy.csv', './frags/1582563810verybigcsvao.csv', './frags/1582563810verybigcsvbv.csv', './frags/1582563810verybigcsvid.csv', './frags/1582563810verybigcsvil.csv', './frags/1582563810verybigcsvgp.csv', './frags/1582563810verybigcsvcc.csv', './frags/1582563810verybigcsvcp.csv', './frags/1582563810verybigcsvho.csv', './frags/1579689616all.csv', './frags/1582563810verybigcsvkv.csv', './frags/1582563810verybigcsvhk.csv', './frags/1579696343all.csv', './frags/1582563810verybigcsvfi.csv', './frags/1582563810verybigcsvjj.csv', './frags/1582563810verybigcsvhe.csv', './frags/1582563810verybigcsvbn.csv', './frags/1582563810verybigcsvce.csv', './frags/1582563810verybigcsvam.csv', './frags/1582563810verybigcsvcf.csv', './frags/1582563810verybigcsvlb.csv', './frags/1582563810verybigcsvio.csv', './frags/1582563810verybigcsvfg.csv', './frags/1582563810verybigcsvch.csv', './frags/1582563810verybigcsvcl.csv', './frags/1582563810verybigcsvfo.csv', './frags/1576605168#AMR.csv', './frags/1582563810verybigcsvar.csv', './frags/1582563810verybigcsvbf.csv', './frags/1582563810verybigcsvad.csv', './frags/1582563810verybigcsvef.csv', './frags/1582563810verybigcsvic.csv', './frags/1582563810verybigcsviw.csv', './frags/1579699862all.csv', './frags/1582563810verybigcsvcv.csv', './frags/1582563810verybigcsvim.csv', './frags/1582563810verybigcsvhb.csv', './frags/1582563810verybigcsvej.csv', './frags/1579708596verybig.csv', './frags/1582563810verybigcsvha.csv', './frags/1582563810verybigcsvax.csv', './frags/1582563810verybigcsvgj.csv', './frags/1582563810verybigcsvga.csv', './frags/1582563810verybigcsvjy.csv', './frags/1582563810verybigcsvem.csv', './frags/1582563810verybigcsvel.csv', './frags/1582563810verybigcsvek.csv', './frags/1582563810verybigcsvhf.csv', './frags/1582563810verybigcsvih.csv', './frags/1582563810verybigcsvka.csv', './frags/1582563810verybigcsvgq.csv', './frags/1582563810verybigcsvgr.csv', './frags/1582563810verybigcsven.csv', './frags/1582563810verybigcsvhd.csv', './frags/1582563810verybigcsvdd.csv', './frags/1577106115#SUPCAA.csv', './frags/1582563810verybigcsvbc.csv', './frags/1582563810verybigcsvjl.csv', './frags/1576569976#CAB4.csv', './frags/1582563810verybigcsvdo.csv', './frags/1582563810verybigcsvgf.csv', './frags/1582563810verybigcsvbm.csv', './frags/1582563810verybigcsvgs.csv', './frags/1582563810verybigcsvks.csv', './frags/1582563810verybigcsvap.csv', './frags/1582563810verybigcsvkn.csv', './frags/1582563810verybigcsvag.csv', './frags/1582563810verybigcsvbh.csv', './frags/1582563810verybigcsvbu.csv', './frags/1582563810verybigcsvfy.csv', './frags/1582563810verybigcsvdf.csv', './frags/1582563810verybigcsvjk.csv', './frags/1582563810verybigcsvkc.csv', './frags/1582563810verybigcsvkp.csv', './frags/1582563810verybigcsvdu.csv', './frags/1582563810verybigcsvhc.csv', './frags/1582563810verybigcsvgm.csv', './frags/1582563810verybigcsvdn.csv', './frags/1582563810verybigcsvbs.csv', './frags/1582563810verybigcsvhx.csv', './frags/1582563810verybigcsvit.csv', './frags/1582563810verybigcsvjc.csv', './frags/1582563810verybigcsvlc.csv', './frags/1582563810verybigcsvfb.csv', './frags/1582563810verybigcsvhw.csv', './frags/1582563810verybigcsvii.csv', './frags/1582563810verybigcsvjr.csv', './frags/1582563810verybigcsvkt.csv', './frags/1582563810verybigcsvbd.csv', './frags/1582563810verybigcsvbr.csv', './frags/1582563810verybigcsvfl.csv', './frags/1582563810verybigcsvdc.csv', './frags/1582563810verybigcsves.csv', './frags/1577105196#AGGCAA.csv', './frags/1582563810verybigcsvaf.csv', './frags/1582563810verybigcsvfh.csv', './frags/1582563810verybigcsvhh.csv', './frags/1582563810verybigcsvfd.csv', './frags/1582563810verybigcsvcm.csv', './frags/1582563810verybigcsvcw.csv', './frags/1582563810verybigcsvcj.csv', './frags/1582563810verybigcsvaw.csv', './frags/1582563810verybigcsver.csv', './frags/1582563810verybigcsvet.csv', './frags/1582563810verybigcsvjt.csv', './frags/1582563810verybigcsvge.csv', './frags/1582563810verybigcsvfu.csv', './frags/1582563810verybigcsvin.csv', './frags/1582563810verybigcsvkx.csv', './frags/1579692497all.csv', './frags/1582563810verybigcsvbj.csv', './frags/1582563810verybigcsvjx.csv', './frags/1579689911all.csv', './frags/1582563810verybigcsviu.csv', './frags/1579708387all.csv', './frags/1576674022#SUPCAA2.csv', './frags/1579701279all.csv', './frags/1582563810verybigcsvbt.csv', './frags/1582563810verybigcsvja.csv', './frags/1582563810verybigcsvkz.csv', './frags/1582563810verybigcsvhr.csv', './frags/1582563810verybigcsvdq.csv', './frags/1582563810verybigcsvdj.csv', './frags/1582563810verybigcsvjw.csv', './frags/1582563810verybigcsvan.csv', './frags/1582563810verybigcsvau.csv', './frags/1582563810verybigcsvgu.csv', './frags/1582563810verybigcsvci.csv', './frags/1582563810verybigcsvjg.csv', './frags/1582563810verybigcsvib.csv', './frags/1582563810verybigcsvaa.csv', './frags/1582563810verybigcsvat.csv', './frags/1582563810verybigcsvir.csv', './frags/1582563810verybigcsvfe.csv', './frags/1582563810verybigcsvkw.csv', './frags/1582563810verybigcsvfv.csv', './frags/1582563810verybigcsvev.csv', './frags/1582563810verybigcsvcq.csv', './frags/1582563810verybigcsval.csv', './frags/1582563810verybigcsvdi.csv', './frags/1582563810verybigcsvhj.csv', './frags/1582563810verybigcsvds.csv', './frags/1582563810verybigcsvep.csv', './frags/1582563810verybigcsvkd.csv', './frags/1582563810verybigcsvfk.csv', './frags/1582563810verybigcsveq.csv', './frags/1582563810verybigcsvje.csv', './frags/1582563810verybigcsvku.csv', './frags/1582563810verybigcsvdg.csv', './frags/1582563810verybigcsvda.csv', './frags/1582563810verybigcsvbz.csv', './frags/1582563810verybigcsvkq.csv', './frags/1582563810verybigcsvbg.csv', './frags/1582563810verybigcsvcn.csv', './frags/1582563810verybigcsvew.csv', './frags/1582563810verybigcsvkg.csv', './frags/1582563810verybigcsvht.csv', './frags/1582563810verybigcsvhs.csv', './frags/1582563810verybigcsvjb.csv', './frags/1582563810verybigcsvjs.csv', './frags/1582563810verybigcsvdt.csv', './frags/1582563810verybigcsvip.csv', './frags/1582563810verybigcsvji.csv', './frags/1576598965#CAB6.csv', './frags/1582563810verybigcsvgd.csv', './frags/1582563810verybigcsvhm.csv', './frags/1582563810verybigcsvfr.csv', './frags/1582563810verybigcsvgg.csv', './frags/1579709965verybig.csv', './frags/1582563810verybigcsvdr.csv', './frags/1582563810verybigcsvez.csv', './frags/1582563810verybigcsviv.csv', './frags/1582563810verybigcsvgt.csv', './frags/1582563810verybigcsvgb.csv', './frags/1582563810verybigcsvbp.csv', './frags/1582563810verybigcsvkm.csv', './frags/1582563810verybigcsvjp.csv', './frags/1582563810verybigcsveh.csv', './frags/1582563810verybigcsvcd.csv', './frags/1582563810verybigcsvkk.csv', './frags/1582563810verybigcsvco.csv', './frags/1582563810verybigcsvky.csv', './frags/1582563810verybigcsvhu.csv', './frags/1582563810verybigcsvdm.csv', './frags/1582563810verybigcsvfq.csv', './frags/1582563810verybigcsvdk.csv', './frags/1576583921#CAB5.csv', './frags/1582563810verybigcsvgz.csv', './frags/1582563810verybigcsvjz.csv', './frags/1582563810verybigcsvhq.csv', './frags/1582563810verybigcsvak.csv', './frags/1582563810verybigcsvdy.csv', './frags/1582563810verybigcsvki.csv', './frags/1582563810verybigcsvbl.csv', './frags/1582563810verybigcsvjm.csv', './frags/1582563810verybigcsvfx.csv', './frags/1582563810verybigcsvgk.csv', './frags/1582563810verybigcsvca.csv', './frags/1582563810verybigcsvjv.csv', './frags/1579694013all.csv', './frags/1582563810verybigcsvjq.csv', './frags/1582563810verybigcsvcx.csv', './frags/1582563810verybigcsvec.csv', './frags/1582563810verybigcsvdv.csv', './frags/1576621046#SUPCAA.csv', './frags/1582563810verybigcsvij.csv', './frags/1582563810verybigcsvjo.csv', './frags/1582563810verybigcsvaj.csv', './frags/1582563810verybigcsvff.csv', './frags/1582563810verybigcsvdh.csv', './frags/1582563810verybigcsvfz.csv', './frags/1582563810verybigcsvab.csv', './frags/1582563810verybigcsvkf.csv', './frags/1582563810verybigcsvfp.csv', './frags/1582563810verybigcsvgw.csv', './frags/1582563810verybigcsvfw.csv', './frags/1582563810verybigcsvba.csv', './frags/1582563810verybigcsvdb.csv', './frags/1582563810verybigcsvfj.csv', './frags/1582563810verybigcsvey.csv', './frags/1582563810verybigcsvgh.csv', './frags/1582563810verybigcsvgl.csv', './frags/1582563810verybigcsvjn.csv', './frags/1582563810verybigcsvla.csv', './frags/1582563810verybigcsvie.csv', './frags/1582563810verybigcsvde.csv', './frags/1582563810verybigcsvfs.csv', './frags/1582563810verybigcsvkj.csv', './frags/1582563810verybigcsvcg.csv', './frags/1582563810verybigcsveu.csv', './frags/1582563810verybigcsvaz.csv', './frags/1582563810verybigcsviy.csv', './frags/1582563810verybigcsveb.csv', './frags/1582563810verybigcsvgn.csv', './frags/1582563810verybigcsvjd.csv', './frags/1582563810verybigcsvbi.csv', './frags/1582563810verybigcsvkr.csv', './frags/1582563810verybigcsveg.csv', './frags/1582563810verybigcsvaq.csv', './frags/1582563810verybigcsvgv.csv', './frags/1582563810verybigcsvko.csv', './frags/1582563810verybigcsvbo.csv', './frags/1582563810verybigcsvhi.csv', './frags/1582563810verybigcsvft.csv', './frags/1576672492#CAA_NRC.csv', './frags/1582563810verybigcsvkh.csv', './frags/1582563810verybigcsvfc.csv', './frags/1582563810verybigcsved.csv', './frags/1582563810verybigcsvgx.csv', './frags/1582563810verybigcsvcs.csv', './frags/1582563810verybigcsvgy.csv', './frags/1582563810verybigcsvay.csv', './frags/1582563810verybigcsvea.csv', './frags/1582563810verybigcsvdx.csv', './frags/1582563810verybigcsvbk.csv', './frags/1582563810verybigcsvbq.csv', './frags/1582563810verybigcsvbw.csv', './frags/1582563810verybigcsvbx.csv', './frags/1582563810verybigcsvhz.csv', './frags/1582563810verybigcsvgi.csv', './frags/1582563810verybigcsvjh.csv', './frags/1582563810verybigcsvdw.csv', './frags/1582563810verybigcsvhl.csv', './frags/1582563810verybigcsvcu.csv', './frags/1582563810verybigcsvis.csv', './frags/1582563810verybigcsvbb.csv', './frags/1582563810verybigcsvdp.csv', './frags/1582563810verybigcsvhn.csv', './frags/1582563810verybigcsvia.csv', './frags/1582563810verybigcsvhy.csv', './frags/1582563810verybigcsviq.csv', './frags/1582563810verybigcsveo.csv', './frags/1582563810verybigcsvfm.csv', './frags/1582563810verybigcsvae.csv', './frags/1582563810verybigcsvav.csv', './frags/1582563810verybigcsvjf.csv', './frags/1582563810verybigcsvld.csv', './frags/1582563810verybigcsvfn.csv', './frags/1582563810verybigcsvik.csv', './frags/1582563810verybigcsvct.csv', './frags/1582563810verybigcsvac.csv', './frags/1582563810verybigcsvex.csv', './frags/1582563810verybigcsvbe.csv', './frags/1576565805#CAB3.csv', './frags/1582563810verybigcsvas.csv', './frags/1582563810verybigcsvkb.csv', './frags/1582563810verybigcsvei.csv', './frags/1582563810verybigcsvcr.csv']\n"
     ]
    }
   ],
   "source": [
    "# Get all csv files\n",
    "src_files = [path.join(frags_dir, f) for f in listdir(frags_dir) if path.isfile(path.join(frags_dir, f)) and f.endswith('.csv')]\n",
    "print(len(src_files), src_files)\n",
    "# src_files = ['/content/drive/My Drive/Colab Notebooks/tpa/frags/1582563810verybigcsvah.csv']"
   ]
  },
  {
   "cell_type": "code",
   "execution_count": 11,
   "metadata": {
    "colab": {},
    "colab_type": "code",
    "id": "L35-OwWNFiPH"
   },
   "outputs": [],
   "source": [
    "def defc(s):\n",
    "  '''\n",
    "  double decode text out of escape, remove 'byte marking'\n",
    "  and newlines using regex, strip text and return\n",
    "\n",
    "  should print out the dirty text on error\n",
    "  '''\n",
    "  try:\n",
    "    return (\n",
    "      re.search(\n",
    "        r'^b[\\'|\\\"]+\\'*\\\"*(.*)\\'*\\\"*[\\'|\\\"]+$',\n",
    "        codecs.decode(\n",
    "          codecs.decode(\n",
    "            s,\n",
    "            'unicode-escape'\n",
    "          ), 'unicode-escape'\n",
    "        ).replace('\\n', '')\n",
    "      ).group(1)\n",
    "    ).strip()\n",
    "  except Exception as e:\n",
    "    print(s, e)\n",
    "    return ''"
   ]
  },
  {
   "cell_type": "code",
   "execution_count": null,
   "metadata": {},
   "outputs": [],
   "source": [
    "# save all unique tweets into a single file\n",
    "cols = ['tweet_text', 'tweet_id', 'user_name', 'user_screen_name',\n",
    "        'user_location', 'user_description', 'user_follower_count',\n",
    "        'user_friends_count', 'user_listed_count', 'user_statuses_count',\n",
    "        'user_favourites_count', 'user_verified', 'user_default_profile_image',\n",
    "        'user_default_profile', 'user_protected', 'user_created_at']\n",
    "\n",
    "# root df\n",
    "root = pd.DataFrame(columns=cols)\n",
    "\n",
    "# dict of unique tweets\n",
    "tweets = {}\n",
    "\n",
    "# all files\n",
    "for frag in src_files:\n",
    "  df = pd.read_csv(frag, names=cols, header=0)\n",
    "  # sanitize text\n",
    "  dfc = df.applymap(defc)\n",
    "  for _, row in dfc.iterrows():\n",
    "    if str(row[['tweet_id']]) == 'tweet_id':\n",
    "      break\n",
    "    tweet_id = str(row[['tweet_id']])\n",
    "    if tweet_id not in tweets:\n",
    "      tweets[tweet_id] = row.to_list()\n",
    "\n",
    "# print number of unique tweets\n",
    "print('Unique tweets:', len(tweets))\n",
    "\n",
    "# convert all into list of series and create a new df\n",
    "tweet_items = [k for k in list(tweets.values())]"
   ]
  },
  {
   "cell_type": "code",
   "execution_count": 17,
   "metadata": {},
   "outputs": [
    {
     "name": "stdout",
     "output_type": "stream",
     "text": [
      "(581762, 16)\n"
     ]
    }
   ],
   "source": [
    "tweets_series = list(map(lambda row : pd.Series(row, index=root.columns), tweet_items))\n",
    "root = root.append(tweets_series, ignore_index=True)\n",
    "print(root.shape)\n",
    "\n",
    "\n",
    "# root.fillna(0)\n",
    "# save to csv file\n",
    "# root.to_csv(path.join(monolith_dir, 'final_tweets.csv'), index=False)"
   ]
  },
  {
   "cell_type": "code",
   "execution_count": 39,
   "metadata": {},
   "outputs": [
    {
     "data": {
      "text/plain": [
       "tweet_text                    False\n",
       "tweet_id                      False\n",
       "user_name                      True\n",
       "user_screen_name              False\n",
       "user_location                  True\n",
       "user_description               True\n",
       "user_follower_count           False\n",
       "user_friends_count            False\n",
       "user_listed_count             False\n",
       "user_statuses_count           False\n",
       "user_favourites_count         False\n",
       "user_verified                 False\n",
       "user_default_profile_image    False\n",
       "user_default_profile          False\n",
       "user_protected                False\n",
       "user_created_at               False\n",
       "dtype: bool"
      ]
     },
     "execution_count": 39,
     "metadata": {},
     "output_type": "execute_result"
    }
   ],
   "source": [
    "# root.replace('', np.nan, inplace=True)\n",
    "root.isna().any()"
   ]
  },
  {
   "cell_type": "code",
   "execution_count": 36,
   "metadata": {
    "colab": {
     "base_uri": "https://localhost:8080/",
     "height": 323
    },
    "colab_type": "code",
    "executionInfo": {
     "elapsed": 10456,
     "status": "ok",
     "timestamp": 1587659430376,
     "user": {
      "displayName": "Ram Damera",
      "photoUrl": "https://lh3.googleusercontent.com/a-/AOh14GisjxJ6K7BHWSlIsAZ0n36P8UGDrLw6CtOeRPeqyQ=s64",
      "userId": "12065644630504145454"
     },
     "user_tz": -330
    },
    "id": "lk0R4prwn3BY",
    "outputId": "e16d6427-b24e-4708-d661-3dd0023e5e4f"
   },
   "outputs": [
    {
     "name": "stdout",
     "output_type": "stream",
     "text": [
      "(581762, 16)\n",
      "tweet_text                    object\n",
      "tweet_id                      object\n",
      "user_name                     object\n",
      "user_screen_name              object\n",
      "user_location                 object\n",
      "user_description              object\n",
      "user_follower_count           object\n",
      "user_friends_count            object\n",
      "user_listed_count             object\n",
      "user_statuses_count           object\n",
      "user_favourites_count         object\n",
      "user_verified                 object\n",
      "user_default_profile_image    object\n",
      "user_default_profile          object\n",
      "user_protected                object\n",
      "user_created_at               object\n",
      "dtype: object\n"
     ]
    }
   ],
   "source": [
    "print(root.shape)\n",
    "print(root.dtypes)\n",
    "root.to_csv(path.join(monolith_dir, 'final_tweets.csv'), index=False)"
   ]
  }
 ],
 "metadata": {
  "colab": {
   "collapsed_sections": [],
   "name": "combine.ipynb",
   "provenance": [],
   "toc_visible": true
  },
  "kernelspec": {
   "display_name": "Python 3",
   "language": "python",
   "name": "python3"
  },
  "language_info": {
   "codemirror_mode": {
    "name": "ipython",
    "version": 3
   },
   "file_extension": ".py",
   "mimetype": "text/x-python",
   "name": "python",
   "nbconvert_exporter": "python",
   "pygments_lexer": "ipython3",
   "version": "3.8.2"
  }
 },
 "nbformat": 4,
 "nbformat_minor": 1
}
